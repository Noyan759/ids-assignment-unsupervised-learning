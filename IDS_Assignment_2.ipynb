{
 "cells": [
  {
   "cell_type": "markdown",
   "metadata": {},
   "source": [
    "# The Second Part of the Assignment of IDS 2020-2021\n",
    "In this Jupyter notebook, please, document your results and the way you have obtained them. Please use the _Python environment_ provided at the beginning of the course. In addition to the _Jupyter notebook_, please submit _one zip-file_ containing all datasets and other outputs you have generated (such as pdf, jpg, and others). Please make sure that the datasets and other outputs are easily identifiable, i.e. use names as requested in the corresponding question.\n",
    "\n",
    "This is the _only_ submission that is required (Jupyter notebook + zip-file). A separate report is _not_ needed and will not be considered for grading. \n",
    "\n",
    "Give your commented Python code and answers in the corresponding provided cells. Make sure to answer all questions in a clear and explicit manner and discuss your outputs. _Please do not change the general structure of this notebook_. You can, however, add additional markdown or code cells if necessary. <b>Please DO NOT CLEAR THE OUTPUT of the notebook you are submitting! </b>\n",
    "\n",
    "It is not needed that the group members be the same as the group members of the first part of the assignment, <font color=\"red\"> *Please make sure to include names and matriculation numbers of all group members in the slot provided below.* </font> If a name or a student's matriculation number is missing, the student will not receive any points.\n",
    "\n",
    "Hint 1: While working on the assignment, you will get a better understanding of the datasets. Feel free to generate additional results and visualizations to support your answers. For example, this might be useful regarding data modification and simplification. <font color=\"red\">Ensure that all your claims are supported.</font>\n",
    "\n",
    "Hint 2: <font color=\"red\">Plan your time wisely. </font> A few parts of this assignment might take some time to run. It might be necessary to consider time management when you plan your group work.\n",
    "\n",
    "Hint 3: RWTHmoodle allows multiple submissions, with every new submission overwriting the previous one. <b>Partial submissions are therefore possible and encouraged. </b> This might be helpful in case of technical issues with RWTHMoodle, which may occur close to the deadline."
   ]
  },
  {
   "cell_type": "markdown",
   "metadata": {},
   "source": [
    "<font color=\"red\"><b>Student Names and matriculation numbers:\n",
    "    \n",
    "    1. \n",
    "    \n",
    "    2. \n",
    "    \n",
    "    3."
   ]
  },
  {
   "cell_type": "markdown",
   "metadata": {},
   "source": [
    "## Question 1 - Data Preprocessing and Data Quality (15 points)"
   ]
  },
  {
   "cell_type": "markdown",
   "metadata": {},
   "source": [
    "(a) Carry out the following preprocessing steps before starting the analysis:\n",
    "\n",
    "Select 90% of dataset <b>dataPrepViz.csv</b> for this assignment by random sampling. Use the matriculation number of one of the group members as seed. Rename the sampled dataset to <b>dataPrepViz_sampled</b> and export it as CSV.\n",
    "\n",
    " - <font color='red'>Important!</font> Make sure that you submit your extracted dataset with your results in Moodle.\n",
    "\n",
    "Use this dataset <b>dataPrepViz_sampled</b> as starting point for Question 1 and Question 2. Then apply further modifications as specified in the those questions."
   ]
  },
  {
   "cell_type": "code",
   "execution_count": 11,
   "metadata": {},
   "outputs": [],
   "source": [
    "# Your code\n",
    "import pandas as pd\n",
    "\n",
    "# Step 1: Read the CSV fileD\n",
    "df_sampled_original = pd.read_csv('datasets/DataPrepViz.csv', error_bad_lines=False, sep = ';')\n",
    "\n",
    "# Step 2: Select 90% from the dataset by random sampling, with seed = \n",
    "df_sampled_data = df_sampled_original.sample(frac=0.9, random_state=416654)\n",
    "\n",
    "# Step3: Export the result to csv file\n",
    "df_sampled_data.to_csv ('datasets/dataPrepViz_sampled.csv', index = False, header=True)"
   ]
  },
  {
   "cell_type": "markdown",
   "metadata": {},
   "source": [
    "Create new dataset <b>data1</b> by removing the feature 'geographic_group' from <b>dataPrepViz_sampled</b>. Use this <b>data1</b> dataset for Question 1."
   ]
  },
  {
   "cell_type": "code",
   "execution_count": 12,
   "metadata": {},
   "outputs": [],
   "source": [
    "# Your code\n",
    "import pandas as pd\n",
    "\n",
    "# Step 1: Read the CSV fileD\n",
    "df_sampled = pd.read_csv('datasets/dataPrepViz_sampled.csv')\n",
    "\n",
    "# Step 2: remove the feature 'geographic_group'\n",
    "df_sampled_newData = df_sampled.drop(columns=['geographic_group'])\n",
    "\n",
    "# Step3: Export the result to csv file\n",
    "df_sampled_newData.to_csv ('datasets/data1.csv', index = False, header=True)"
   ]
  },
  {
   "cell_type": "markdown",
   "metadata": {},
   "source": [
    "(b) We want to get a first impression of the data. To achieve this, compute and show the following:\n",
    "\n",
    "- the column names (the names of the features)\n",
    "- the data type of each feature\n",
    "- for categorical features: the number of classes and the value of the most frequent class\n",
    "- for numerical features: the mean, standard deviation, minimum and maximum"
   ]
  },
  {
   "cell_type": "code",
   "execution_count": 13,
   "metadata": {},
   "outputs": [
    {
     "name": "stdout",
     "output_type": "stream",
     "text": [
      "1 .  column name =  country | column type =  object\n",
      "2 .  column name =  children_per_woman_total_fertility | column type =  float64\n",
      "3 .  column name =  child_mortality_0_5_year_olds_dying_per_1000_born | column type =  float64\n",
      "4 .  column name =  co2_emissions_tonnes_per_person | column type =  float64\n",
      "5 .  column name =  corruption_perception_index_cpi | column type =  float64\n",
      "6 .  column name =  life_expectancy_years | column type =  float64\n",
      "7 .  column name =  vccin_effect_dag | column type =  float64\n",
      "\n",
      "\n",
      "=============================================================\n",
      "\n",
      "\n",
      "number of classes in catagorical feature country: 126\n",
      "value of the most frequent class in catagorical feature country: 1\n",
      "\n",
      "\n",
      "=============================================================\n",
      "Mean for numerical features:\n",
      "\n",
      "\n",
      "children_per_woman_total_fertility                   -0.25\n",
      "child_mortality_0_5_year_olds_dying_per_1000_born    29.26\n",
      "co2_emissions_tonnes_per_person                       4.52\n",
      "corruption_perception_index_cpi                      44.54\n",
      "life_expectancy_years                                73.00\n",
      "vccin_effect_dag                                      0.09\n",
      "dtype: float64\n",
      "\n",
      " \n",
      "\n",
      "StDev for numerical features:\n",
      "\n",
      "\n",
      "children_per_woman_total_fertility                    5.62\n",
      "child_mortality_0_5_year_olds_dying_per_1000_born    31.80\n",
      "co2_emissions_tonnes_per_person                       4.88\n",
      "corruption_perception_index_cpi                      19.72\n",
      "life_expectancy_years                                 7.56\n",
      "vccin_effect_dag                                      0.05\n",
      "dtype: float64\n",
      "\n",
      " \n",
      "\n",
      "Min for numerical features: \n",
      "\n",
      "\n",
      "children_per_woman_total_fertility                  -10.00\n",
      "child_mortality_0_5_year_olds_dying_per_1000_born     2.18\n",
      "co2_emissions_tonnes_per_person                       0.04\n",
      "corruption_perception_index_cpi                      11.00\n",
      "life_expectancy_years                                55.80\n",
      "vccin_effect_dag                                      0.00\n",
      "dtype: float64\n",
      "\n",
      " \n",
      "\n",
      "Max for numerical features: \n",
      "\n",
      "\n",
      "children_per_woman_total_fertility                     7.29\n",
      "child_mortality_0_5_year_olds_dying_per_1000_born    130.00\n",
      "co2_emissions_tonnes_per_person                       24.10\n",
      "corruption_perception_index_cpi                       91.00\n",
      "life_expectancy_years                                 84.40\n",
      "vccin_effect_dag                                       0.26\n",
      "dtype: float64\n",
      "\n",
      " \n",
      "\n"
     ]
    }
   ],
   "source": [
    "# Your code\n",
    "import pandas as pd\n",
    "from collections import defaultdict\n",
    "import statistics\n",
    "\n",
    "def printDataInfo(dataframe):\n",
    "    #  Fetch required data\n",
    "    numMean = round(dataframe[pd.notna(dataframe)].mean(axis=0, numeric_only=True), 2)\n",
    "    numDev = round(dataframe[pd.notna(dataframe)].std(axis=0, numeric_only=True), 2)\n",
    "    numMin = round(dataframe[pd.notna(dataframe)].min(axis=0, numeric_only=True), 2)\n",
    "    numMax = round(dataframe[pd.notna(dataframe)].max(axis=0, numeric_only=True), 2)\n",
    "   \n",
    "    # Print values\n",
    "    print('Mean for numerical features:')\n",
    "    print('\\n')\n",
    "    print(numMean)\n",
    "    print('\\n \\n')\n",
    "\n",
    "    print('StDev for numerical features:')\n",
    "    print('\\n')\n",
    "    print(numDev)\n",
    "    print('\\n \\n')\n",
    "\n",
    "    print('Min for numerical features: ')\n",
    "    print('\\n')\n",
    "    print(numMin)\n",
    "    print('\\n \\n')\n",
    "\n",
    "    print('Max for numerical features: ')\n",
    "    print('\\n')\n",
    "    print(numMax)\n",
    "    print('\\n \\n')\n",
    "\n",
    "\n",
    "\n",
    "# Step 1: Read the CSV fileD\n",
    "df_sampled = pd.read_csv('datasets/data1.csv')\n",
    "\n",
    "# Step 1: Print the name and data type\n",
    "count = 1\n",
    "for col in df_sampled.columns: \n",
    "    print(count, \". \",  \"column name = \",  col, \"|\" , \"column type = \", df_sampled.dtypes[col])\n",
    "    count= count+1\n",
    "print ('\\n')\n",
    "print('=============================================================')\n",
    "\n",
    "#Step 3: for categorical feature printing the number of classes and the value of the most frequent class\n",
    "print ('\\n')\n",
    "print('number of classes in catagorical feature country:', df_sampled.country.nunique())\n",
    "print('value of the most frequent class in catagorical feature country:', df_sampled.country.value_counts(). max() )\n",
    "print ('\\n')\n",
    "print('=============================================================')\n",
    "\n",
    "#Step 4: for numerical features showing the mean, standard deviation, minimum and maximum\n",
    "printDataInfo(df_sampled)\n"
   ]
  },
  {
   "cell_type": "markdown",
   "metadata": {},
   "source": [
    "(c) For each feature, provide a histogram (with at least 10 bins each) showing the value distribution. Can you spot any obvious data quality issues, e.g. inconsistencies, implausible values or missing values (without researching on specific domain knowledge)?\n",
    "\n",
    "Briefly explain the issues you identified."
   ]
  },
  {
   "cell_type": "code",
   "execution_count": 14,
   "metadata": {
    "scrolled": true
   },
   "outputs": [
    {
     "data": {
      "image/png": "[encoded data removed]",
      "text/plain": [
       "<Figure size 360x360 with 1 Axes>"
      ]
     },
     "metadata": {
      "needs_background": "light"
     },
     "output_type": "display_data"
    },
    {
     "data": {
      "image/png": "[encoded data removed]",
      "text/plain": [
       "<Figure size 360x360 with 1 Axes>"
      ]
     },
     "metadata": {
      "needs_background": "light"
     },
     "output_type": "display_data"
    },
    {
     "data": {
      "image/png": "[encoded data removed]",
      "text/plain": [
       "<Figure size 360x360 with 1 Axes>"
      ]
     },
     "metadata": {
      "needs_background": "light"
     },
     "output_type": "display_data"
    },
    {
     "data": {
      "image/png": "[encoded data removed]",
      "text/plain": [
       "<Figure size 360x360 with 1 Axes>"
      ]
     },
     "metadata": {
      "needs_background": "light"
     },
     "output_type": "display_data"
    },
    {
     "data": {
      "image/png": "[encoded data removed]",
      "text/plain": [
       "<Figure size 360x360 with 1 Axes>"
      ]
     },
     "metadata": {
      "needs_background": "light"
     },
     "output_type": "display_data"
    },
    {
     "data": {
      "image/png": "[encoded data removed]",
      "text/plain": [
       "<Figure size 360x360 with 1 Axes>"
      ]
     },
     "metadata": {
      "needs_background": "light"
     },
     "output_type": "display_data"
    },
    {
     "data": {
      "image/png": "[encoded data removed]",
      "text/plain": [
       "<Figure size 360x360 with 1 Axes>"
      ]
     },
     "metadata": {
      "needs_background": "light"
     },
     "output_type": "display_data"
    }
   ],
   "source": [
    "from numpy import median\n",
    "import pandas as pd\n",
    "import seaborn as sns \n",
    "import matplotlib.pyplot as plt \n",
    "\n",
    "# Step 1: Read the CSV files\n",
    "df_sampled = pd.read_csv('datasets/data1.csv')\n",
    "\n",
    "#Step 2: Show histograms\n",
    "sns.displot(data=df_sampled, x=\"country\", bins = 10)\n",
    "plt.show()\n",
    "\n",
    "sns.displot(data=df_sampled, x=\"children_per_woman_total_fertility\", bins = 10)\n",
    "plt.show()\n",
    "\n",
    "sns.displot(data=df_sampled, x=\"child_mortality_0_5_year_olds_dying_per_1000_born\", bins = 10)\n",
    "plt.show()\n",
    "\n",
    "sns.displot(data=df_sampled, x=\"co2_emissions_tonnes_per_person\", bins = 10)\n",
    "plt.show()\n",
    "\n",
    "sns.displot(data=df_sampled, x=\"corruption_perception_index_cpi\", bins = 10)\n",
    "plt.show()\n",
    "\n",
    "sns.displot(data=df_sampled, x=\"life_expectancy_years\", bins = 10)\n",
    "plt.show()\n",
    "\n",
    "sns.displot(data=df_sampled, x=\"vccin_effect_dag\", bins = 10)\n",
    "plt.show()"
   ]
  },
  {
   "cell_type": "markdown",
   "metadata": {},
   "source": [
    "Explanation: Feature children_per_woman_total_fertility has implausable values, since it contains negative values which also leads to an average of negative value which is not possible. Moreover, life_expectency differs between 55 and 85 without representing children between 0 to 5. These values are inconsistent with feature child_mortality_0_5_year_olds_dying_per_1000_born. Lastly, it can be seen that almost all of the data is skwed towards left or right and has no gaussian distribution."
   ]
  },
  {
   "cell_type": "markdown",
   "metadata": {},
   "source": [
    "(d) Substitute all implausible values as missing data (numpy.nan). Show the scatter matrix of the resulting dataset."
   ]
  },
  {
   "cell_type": "code",
   "execution_count": 15,
   "metadata": {
    "scrolled": true
   },
   "outputs": [
    {
     "data": {
      "image/png": "[encoded data removed]",
      "text/plain": [
       "<Figure size 432x288 with 36 Axes>"
      ]
     },
     "metadata": {
      "needs_background": "light"
     },
     "output_type": "display_data"
    }
   ],
   "source": [
    "import numpy as np\n",
    "import pandas as pd\n",
    "import seaborn as sns \n",
    "import matplotlib.pyplot as plt \n",
    "\n",
    "# Step 1: Read the CSV files\n",
    "df_sampled = pd.read_csv('datasets/data1.csv')\n",
    "\n",
    "# Step 2: Remove implausable data\n",
    "for idx, val in enumerate(df_sampled.children_per_woman_total_fertility):\n",
    "    if (val < 0):\n",
    "        df_sampled.loc[ idx, 'children_per_woman_total_fertility'] = np.nan\n",
    "\n",
    "# Step 3: Write it on file\n",
    "df_sampled.to_csv ('data1.csv', index = False, header=True)\n",
    "\n",
    "# Step 4: Display Scatter Matrix\n",
    "pd.plotting.scatter_matrix(df_sampled)\n",
    "plt.show()"
   ]
  },
  {
   "cell_type": "markdown",
   "metadata": {},
   "source": [
    "(e) We need to handle any implausible or missing data. In the lecture, several strategies to do so have been introduced. \n",
    "\n",
    "In this question, consider implausible values to be the ones identified in part (c).\n",
    "\n",
    "    1) For all numerical features, compute and show mean, standard deviation, minimum and maximum, while ignoring the missing and implausible values. Also, print the total number of data rows.\n",
    "    \n",
    "    2) Based on the information obtained in the previous subtasks of this question, choose a strategy for handling all missing/implausible values, such that\n",
    "    - for one feature, you delete all data rows that include a missing value.\n",
    "    - for one feature, you replace all missing values by the median value.\n",
    "    - for one feature, you impute the values based on other, continous features using a regression classifier.\n",
    "    Create a cleaned dataset with all those values handled accordingly. \n",
    "    \n",
    "    3) For all numerical features, compute and show mean, standard deviation, minimum and maximum with respect to your cleaned dataset. Also print the total number of data rows.\n",
    "    \n",
    "    4) Motivate and explain the choices you made in 2). Compare the computed statistical values before and after cleaning and briefly describe and evaluate any changes.\n",
    " \n",
    "*Hint: There might not be an obvious choice for the best strategy. In this case, sound reasoning based on correct observations is more important than the decision itself.*"
   ]
  },
  {
   "cell_type": "code",
   "execution_count": 16,
   "metadata": {},
   "outputs": [
    {
     "name": "stdout",
     "output_type": "stream",
     "text": [
      "Mean for numerical features:\n",
      "\n",
      "\n",
      "children_per_woman_total_fertility                    2.79\n",
      "child_mortality_0_5_year_olds_dying_per_1000_born    29.26\n",
      "co2_emissions_tonnes_per_person                       4.52\n",
      "corruption_perception_index_cpi                      44.54\n",
      "life_expectancy_years                                73.00\n",
      "vccin_effect_dag                                      0.09\n",
      "dtype: float64\n",
      "\n",
      " \n",
      "\n",
      "StDev for numerical features:\n",
      "\n",
      "\n",
      "children_per_woman_total_fertility                    1.46\n",
      "child_mortality_0_5_year_olds_dying_per_1000_born    31.80\n",
      "co2_emissions_tonnes_per_person                       4.88\n",
      "corruption_perception_index_cpi                      19.72\n",
      "life_expectancy_years                                 7.56\n",
      "vccin_effect_dag                                      0.05\n",
      "dtype: float64\n",
      "\n",
      " \n",
      "\n",
      "Min for numerical features: \n",
      "\n",
      "\n",
      "children_per_woman_total_fertility                    1.24\n",
      "child_mortality_0_5_year_olds_dying_per_1000_born     2.18\n",
      "co2_emissions_tonnes_per_person                       0.04\n",
      "corruption_perception_index_cpi                      11.00\n",
      "life_expectancy_years                                55.80\n",
      "vccin_effect_dag                                      0.00\n",
      "dtype: float64\n",
      "\n",
      " \n",
      "\n",
      "Max for numerical features: \n",
      "\n",
      "\n",
      "children_per_woman_total_fertility                     7.29\n",
      "child_mortality_0_5_year_olds_dying_per_1000_born    130.00\n",
      "co2_emissions_tonnes_per_person                       24.10\n",
      "corruption_perception_index_cpi                       91.00\n",
      "life_expectancy_years                                 84.40\n",
      "vccin_effect_dag                                       0.26\n",
      "dtype: float64\n",
      "\n",
      " \n",
      "\n",
      "Rows for numerical features:\n",
      "\n",
      "\n",
      "children_per_woman_total_fertility                    96\n",
      "child_mortality_0_5_year_olds_dying_per_1000_born    126\n",
      "co2_emissions_tonnes_per_person                      126\n",
      "corruption_perception_index_cpi                      125\n",
      "life_expectancy_years                                126\n",
      "vccin_effect_dag                                      59\n",
      "dtype: int64\n",
      "\n",
      " \n",
      "\n",
      "Missing data for numerical features: \n",
      "\n",
      "\n",
      "children_per_woman_total_fertility                   30\n",
      "child_mortality_0_5_year_olds_dying_per_1000_born     0\n",
      "co2_emissions_tonnes_per_person                       0\n",
      "corruption_perception_index_cpi                       1\n",
      "life_expectancy_years                                 0\n",
      "vccin_effect_dag                                     67\n",
      "dtype: int64\n",
      "\n",
      " \n",
      "\n",
      "Skew data for numerical features: \n",
      "\n",
      "\n",
      "children_per_woman_total_fertility                   1.07\n",
      "child_mortality_0_5_year_olds_dying_per_1000_born    1.37\n",
      "co2_emissions_tonnes_per_person                      1.63\n",
      "corruption_perception_index_cpi                      0.81\n",
      "life_expectancy_years                               -0.47\n",
      "vccin_effect_dag                                     0.89\n",
      "dtype: float64\n",
      "\n",
      " \n",
      "\n",
      "\n",
      " =============================================================\n",
      "Score:  0.7038705430391703\n",
      "\n",
      "\n",
      "=============================================================\n",
      "\n",
      " Stats for Cleaned Data \n",
      " \n",
      "\n",
      "Mean for numerical features:\n",
      "\n",
      "\n",
      "children_per_woman_total_fertility                    2.14\n",
      "child_mortality_0_5_year_olds_dying_per_1000_born    17.66\n",
      "co2_emissions_tonnes_per_person                       5.72\n",
      "corruption_perception_index_cpi                      48.47\n",
      "life_expectancy_years                                76.16\n",
      "vccin_effect_dag                                      0.09\n",
      "dtype: float64\n",
      "\n",
      " \n",
      "\n",
      "StDev for numerical features:\n",
      "\n",
      "\n",
      "children_per_woman_total_fertility                    0.91\n",
      "child_mortality_0_5_year_olds_dying_per_1000_born    23.25\n",
      "co2_emissions_tonnes_per_person                       4.37\n",
      "corruption_perception_index_cpi                      19.58\n",
      "life_expectancy_years                                 5.90\n",
      "vccin_effect_dag                                      0.05\n",
      "dtype: float64\n",
      "\n",
      " \n",
      "\n",
      "Min for numerical features: \n",
      "\n",
      "\n",
      "children_per_woman_total_fertility                    1.25\n",
      "child_mortality_0_5_year_olds_dying_per_1000_born     2.18\n",
      "co2_emissions_tonnes_per_person                       0.04\n",
      "corruption_perception_index_cpi                      11.00\n",
      "life_expectancy_years                                61.20\n",
      "vccin_effect_dag                                      0.00\n",
      "dtype: float64\n",
      "\n",
      " \n",
      "\n",
      "Max for numerical features: \n",
      "\n",
      "\n",
      "children_per_woman_total_fertility                     6.17\n",
      "child_mortality_0_5_year_olds_dying_per_1000_born    125.00\n",
      "co2_emissions_tonnes_per_person                       19.60\n",
      "corruption_perception_index_cpi                       91.00\n",
      "life_expectancy_years                                 84.10\n",
      "vccin_effect_dag                                       0.26\n",
      "dtype: float64\n",
      "\n",
      " \n",
      "\n",
      "Rows for numerical features:\n",
      "\n",
      "\n",
      "children_per_woman_total_fertility                   59\n",
      "child_mortality_0_5_year_olds_dying_per_1000_born    59\n",
      "co2_emissions_tonnes_per_person                      59\n",
      "corruption_perception_index_cpi                      59\n",
      "life_expectancy_years                                59\n",
      "vccin_effect_dag                                     59\n",
      "dtype: int64\n",
      "\n",
      " \n",
      "\n",
      "Missing data for numerical features: \n",
      "\n",
      "\n",
      "children_per_woman_total_fertility                   0\n",
      "child_mortality_0_5_year_olds_dying_per_1000_born    0\n",
      "co2_emissions_tonnes_per_person                      0\n",
      "corruption_perception_index_cpi                      0\n",
      "life_expectancy_years                                0\n",
      "vccin_effect_dag                                     0\n",
      "dtype: int64\n",
      "\n",
      " \n",
      "\n",
      "Skew data for numerical features: \n",
      "\n",
      "\n",
      "children_per_woman_total_fertility                   2.77\n",
      "child_mortality_0_5_year_olds_dying_per_1000_born    2.85\n",
      "co2_emissions_tonnes_per_person                      1.22\n",
      "corruption_perception_index_cpi                      0.61\n",
      "life_expectancy_years                               -0.98\n",
      "vccin_effect_dag                                     0.89\n",
      "dtype: float64\n",
      "\n",
      " \n",
      "\n"
     ]
    }
   ],
   "source": [
    "from sklearn.model_selection import train_test_split\n",
    "from sklearn.linear_model import LinearRegression\n",
    "import seaborn as sns\n",
    "import pandas as pd\n",
    "\n",
    "def printDataInfo(dataframe):\n",
    "    #  Fetch required data\n",
    "    numMean = round(dataframe[pd.notna(dataframe)].mean(axis=0, numeric_only=True), 2)\n",
    "    numDev = round(dataframe[pd.notna(dataframe)].std(axis=0, numeric_only=True), 2)\n",
    "    numMin = round(dataframe[pd.notna(dataframe)].min(axis=0, numeric_only=True), 2)\n",
    "    numMax = round(dataframe[pd.notna(dataframe)].max(axis=0, numeric_only=True), 2)\n",
    "    numRows = dataframe.iloc[:,1:].notna().sum()\n",
    "    numMissing= dataframe.iloc[:,1:].isnull().sum()\n",
    "    numSkew = round(df_sampled[pd.notna(df_sampled)].skew(axis=0, numeric_only=True),2)\n",
    "\n",
    "    # Print values\n",
    "    print('Mean for numerical features:')\n",
    "    print('\\n')\n",
    "    print(numMean)\n",
    "    print('\\n \\n')\n",
    "\n",
    "    print('StDev for numerical features:')\n",
    "    print('\\n')\n",
    "    print(numDev)\n",
    "    print('\\n \\n')\n",
    "\n",
    "    print('Min for numerical features: ')\n",
    "    print('\\n')\n",
    "    print(numMin)\n",
    "    print('\\n \\n')\n",
    "\n",
    "    print('Max for numerical features: ')\n",
    "    print('\\n')\n",
    "    print(numMax)\n",
    "    print('\\n \\n')\n",
    "\n",
    "    print('Rows for numerical features:')\n",
    "    print('\\n')\n",
    "    print(numRows)\n",
    "    print('\\n \\n')\n",
    "\n",
    "    print('Missing data for numerical features: ')\n",
    "    print('\\n')\n",
    "    print(numMissing)\n",
    "    print('\\n \\n')\n",
    "\n",
    "    print('Skew data for numerical features: ')\n",
    "    print('\\n')\n",
    "    print(numSkew)\n",
    "    print('\\n \\n')\n",
    "\n",
    "\n",
    "\n",
    "# Step 1: Read the CSV files\n",
    "df_sampled = pd.read_csv('data1.csv')\n",
    "\n",
    "#  [1e(1)] For all numerical features showing mean, standard deviation, minimum and maximum, while ignoring the missing and implausible values\n",
    "# Step 2: Print data\n",
    "printDataInfo(df_sampled)\n",
    "\n",
    "# [1e(2)] handling all missing/implausible values\n",
    "# Step 3: for one feature delete all data rows with missing data  \n",
    "df_sampled.dropna(subset=[\"vccin_effect_dag\"], inplace=True)\n",
    "\n",
    "# Step 4: replacing missing value with median for one feature\n",
    "df_sampled[\"children_per_woman_total_fertility\"].fillna(df_sampled.median()[\"children_per_woman_total_fertility\"],inplace=True)\n",
    "\n",
    "# Step 5: store feaure in a variable for further use\n",
    "dataframe=df_sampled[pd.notna(df_sampled[\"corruption_perception_index_cpi\"])].copy()\n",
    "\n",
    "# Step 6: pick numerical data\n",
    "descriptiveFeatures = dataframe.columns[[2, 3, 4, 5]]\n",
    "\n",
    "# Step 7: pick catagorical data\n",
    "targetFeature = dataframe.columns[1]\n",
    "\n",
    "# Step 8: Train data\n",
    "X_train, X_test, Y_train, Y_test = train_test_split(dataframe[descriptiveFeatures], dataframe[targetFeature], random_state=0)\n",
    "\n",
    "# Step 9: Perform functions and fetch required data\n",
    "ctrlFunction = LinearRegression()\n",
    "ctrlFunction.fit(X_train, Y_train)\n",
    "Y_test_pred = ctrlFunction.predict(X_test)\n",
    "score = ctrlFunction.score(X_test, Y_test)\n",
    "\n",
    "# Step 10: Print result\n",
    "print('\\n =============================================================')\n",
    "print('Score: ', score)\n",
    "print('\\n')\n",
    "\n",
    "# Step 11: impute the values based on other, continous features\n",
    "df_sampled.loc[df_sampled[targetFeature].isnull(),\"corruption_perception_index_cpi\"] = ctrlFunction.predict(df_sampled[descriptiveFeatures])[df_sampled[targetFeature].isnull()]\n",
    "\n",
    "# Step 12 : Export the result to csv file\n",
    "df_sampled.to_csv ('cleaned_data.csv', index = False, header=True)\n",
    "\n",
    "# Step 13: Get cleaned data from file \n",
    "df_cleaned = pd.read_csv('cleaned_data.csv')\n",
    "\n",
    "# Step 14: Print cleaned data stats \n",
    "print('=============================================================')\n",
    "print('\\n Stats for Cleaned Data \\n \\n')\n",
    "\n",
    "printDataInfo(df_cleaned)\n"
   ]
  },
  {
   "cell_type": "markdown",
   "metadata": {},
   "source": [
    "Explanation: \n",
    "\n",
    "There are 3 features with missing values.\n",
    "1. children_per_woman_total_fertility\n",
    "2. corruption_perception_index_cpi\n",
    "3. vccin_effect_dag\n",
    "\n",
    "-> Mean: The mean of features changed which is because of the data cleanup in which few data values were removed. In the change children_per_woman_total_fertility and vccin_effect_dag were not effected much which shows that missing values did not had much prominence in these features.\n",
    "\n",
    "-> St. Dev: features children_per_woman_total_fertility and corruption_perception_index_cpi were changed more which is because their values were replaced with median and predicted values in the cleanup. \n",
    "\n",
    "-> Min/Max: BOth were un affected becuase only NaN was replaced"
   ]
  },
  {
   "cell_type": "markdown",
   "metadata": {},
   "source": [
    "## Question 2 - Data Preprocessing and Advanced Visualization (15 points)"
   ]
  },
  {
   "cell_type": "markdown",
   "metadata": {},
   "source": [
    "For this question, use the <b>dataPrepViz_sampled</b> dataset you created in Q1, part (a)."
   ]
  },
  {
   "cell_type": "markdown",
   "metadata": {},
   "source": [
    "(a) To create a suitable input for the following questions, modify the dataset as listed below:\n",
    "\n",
    "    1) remove rows that contain negative values\n",
    "    2) remove all rows that contain missing values"
   ]
  },
  {
   "cell_type": "code",
   "execution_count": 10,
   "metadata": {},
   "outputs": [],
   "source": [
    "# Your code"
   ]
  },
  {
   "cell_type": "markdown",
   "metadata": {},
   "source": [
    "(b) For this subtask remove the feature 'country' from the data. Create four parallel coordinate plots that visualize the relation between the numerical attributes for all geographic groups.\n",
    "\n",
    "    1) For the first parallel coordinate plot, use the values unchanged.\n",
    "    \n",
    "    2-4) For the remaining 3 parallel coordinate plots, first normalize all numerical attributes by mapping them individually to the interval between 0 and 1, that is, apply Min-max normalization. Draw the three plots with different orderings of the features (randomized or chosen by interest)."
   ]
  },
  {
   "cell_type": "code",
   "execution_count": 8,
   "metadata": {},
   "outputs": [],
   "source": [
    "# your code"
   ]
  },
  {
   "cell_type": "markdown",
   "metadata": {},
   "source": [
    "(c) For each of the questions 1-3 below:\n",
    "- Indicate all of your parallel coordinate plots, which are suitable for finding an answer to the question. Explain your selection. \n",
    "- If possible, briefly answer the questions.\n",
    "\n",
    "    1) Is there a correlation between fertility and CO2 emissions? If yes, is it positive or negative?\n",
    "\n",
    "    2) Is there a correlation between life expectancy and vaccination confidence? If yes, is it positive or negative?\n",
    "\n",
    "    3) Is there a correlation between CO2 emissions and perceived corruption? If yes, is it positive or negative?"
   ]
  },
  {
   "cell_type": "markdown",
   "metadata": {},
   "source": [
    "Explanation: "
   ]
  },
  {
   "cell_type": "markdown",
   "metadata": {},
   "source": [
    "(d) In this subtask we prepare the data for the heat map, which we create in subtask (e). \n",
    "\n",
    "The heat map should visualize the vaccination confidence ('vccin_effect_dag') for different combinations of CO2 emissions ('co2_emissions_tonnes_per_person') and fertility ('children_per_woman_total_fertility'). The heatmap should have 40 columns and 40 rows. The shown vaccination confidence value should be the *median* of all values for each combination of CO2 emissions and fertility. \n",
    "\n",
    "Do the following steps in preparation:\n",
    "\n",
    "    1) First, drop all columns that are not needed in this task.\n",
    "\n",
    "    2) Discretize the CO2 emissions and fertility data into 40 bins each, using equal-width binning.\n",
    "\n",
    "    3) Group the data by CO2 emissions and fertility, using median to aggregate the values."
   ]
  },
  {
   "cell_type": "code",
   "execution_count": 9,
   "metadata": {},
   "outputs": [],
   "source": [
    "# your code"
   ]
  },
  {
   "cell_type": "markdown",
   "metadata": {},
   "source": [
    "(e) Use the modified data to create a heat map as specified in part (d). Answer the following questions based on that heat map and briefly explain how you derived your answer:\n",
    "\n",
    "    1) Which combination of bins results in the highest vaccination confidence? \n",
    "    \n",
    "    2) How do you explain empty fields in your heat map?\n",
    "    \n",
    "    3) Can you identify any pattern in the heat map, e.g. in the coloring or in the distribution of empty fields? What can be a possible reason for this?"
   ]
  },
  {
   "cell_type": "code",
   "execution_count": 21,
   "metadata": {},
   "outputs": [],
   "source": [
    "# your code"
   ]
  },
  {
   "cell_type": "markdown",
   "metadata": {},
   "source": [
    "Explanation: "
   ]
  },
  {
   "cell_type": "markdown",
   "metadata": {},
   "source": [
    "## Question 3 - Frequent Item Sets and Association Rules (15 points)"
   ]
  },
  {
   "cell_type": "markdown",
   "metadata": {},
   "source": [
    "(a) Carry out some preprocessing steps before starting the analysis:\n",
    " - Select 90% of the <b>store_data</b> dataset by random sampling. Use the matriculation number of one of the group members as seed.\n",
    " - After completing this preprocessing step, export your final dataset as <b>store_data_2.csv</b> dataset and use it for the next steps of the assignment.\n",
    " - <font color='red'>Important!</font> Make sure that you submit your extracted dataset with your results in Moodle."
   ]
  },
  {
   "cell_type": "code",
   "execution_count": 26,
   "metadata": {},
   "outputs": [],
   "source": [
    "import pandas as pd\n",
    "# Step 1: Read the CSV file\n",
    "df_store_data = pd.read_csv('datasets/store_data.csv')\n",
    "# Step 2: Select 90% from the dataset by random sampling, with seed = \n",
    "df_store_data_sampled = df_store_data.sample(frac=0.9, random_state=416804)\n",
    "# Step3: Export the result to csv file\n",
    "df_store_data_sampled.to_csv ('datasets/store_data_2.csv', index = False, header=True)"
   ]
  },
  {
   "cell_type": "markdown",
   "metadata": {},
   "source": [
    "(b) Find the most frequent itemsets with the support of more than 0.04 using the Apriori algorithm."
   ]
  },
  {
   "cell_type": "code",
   "execution_count": 39,
   "metadata": {
    "scrolled": true
   },
   "outputs": [
    {
     "name": "stdout",
     "output_type": "stream",
     "text": [
      "\n",
      "=========== Apriori - Frequent itemsets with minimum support of 0.04 ===========\n"
     ]
    },
    {
     "data": {
      "text/html": [
       "<div>\n",
       "<style scoped>\n",
       "    .dataframe tbody tr th:only-of-type {\n",
       "        vertical-align: middle;\n",
       "    }\n",
       "\n",
       "    .dataframe tbody tr th {\n",
       "        vertical-align: top;\n",
       "    }\n",
       "\n",
       "    .dataframe thead th {\n",
       "        text-align: right;\n",
       "    }\n",
       "</style>\n",
       "<table border=\"1\" class=\"dataframe\">\n",
       "  <thead>\n",
       "    <tr style=\"text-align: right;\">\n",
       "      <th></th>\n",
       "      <th>support</th>\n",
       "      <th>itemsets</th>\n",
       "    </tr>\n",
       "  </thead>\n",
       "  <tbody>\n",
       "    <tr>\n",
       "      <th>0</th>\n",
       "      <td>0.087394</td>\n",
       "      <td>(burgers)</td>\n",
       "    </tr>\n",
       "    <tr>\n",
       "      <th>1</th>\n",
       "      <td>0.079099</td>\n",
       "      <td>(cake)</td>\n",
       "    </tr>\n",
       "    <tr>\n",
       "      <th>2</th>\n",
       "      <td>0.046956</td>\n",
       "      <td>(champagne)</td>\n",
       "    </tr>\n",
       "    <tr>\n",
       "      <th>3</th>\n",
       "      <td>0.058065</td>\n",
       "      <td>(chicken)</td>\n",
       "    </tr>\n",
       "    <tr>\n",
       "      <th>4</th>\n",
       "      <td>0.164420</td>\n",
       "      <td>(chocolate)</td>\n",
       "    </tr>\n",
       "    <tr>\n",
       "      <th>5</th>\n",
       "      <td>0.081321</td>\n",
       "      <td>(cookies)</td>\n",
       "    </tr>\n",
       "    <tr>\n",
       "      <th>6</th>\n",
       "      <td>0.050215</td>\n",
       "      <td>(cooking oil)</td>\n",
       "    </tr>\n",
       "    <tr>\n",
       "      <th>7</th>\n",
       "      <td>0.181010</td>\n",
       "      <td>(eggs)</td>\n",
       "    </tr>\n",
       "    <tr>\n",
       "      <th>8</th>\n",
       "      <td>0.079544</td>\n",
       "      <td>(escalope)</td>\n",
       "    </tr>\n",
       "    <tr>\n",
       "      <th>9</th>\n",
       "      <td>0.172715</td>\n",
       "      <td>(french fries)</td>\n",
       "    </tr>\n",
       "    <tr>\n",
       "      <th>10</th>\n",
       "      <td>0.042957</td>\n",
       "      <td>(fresh bread)</td>\n",
       "    </tr>\n",
       "    <tr>\n",
       "      <th>11</th>\n",
       "      <td>0.063546</td>\n",
       "      <td>(frozen smoothie)</td>\n",
       "    </tr>\n",
       "    <tr>\n",
       "      <th>12</th>\n",
       "      <td>0.095690</td>\n",
       "      <td>(frozen vegetables)</td>\n",
       "    </tr>\n",
       "    <tr>\n",
       "      <th>13</th>\n",
       "      <td>0.050955</td>\n",
       "      <td>(grated cheese)</td>\n",
       "    </tr>\n",
       "    <tr>\n",
       "      <th>14</th>\n",
       "      <td>0.132573</td>\n",
       "      <td>(green tea)</td>\n",
       "    </tr>\n",
       "    <tr>\n",
       "      <th>15</th>\n",
       "      <td>0.097467</td>\n",
       "      <td>(ground beef)</td>\n",
       "    </tr>\n",
       "    <tr>\n",
       "      <th>16</th>\n",
       "      <td>0.049178</td>\n",
       "      <td>(herb &amp; pepper)</td>\n",
       "    </tr>\n",
       "    <tr>\n",
       "      <th>17</th>\n",
       "      <td>0.046364</td>\n",
       "      <td>(honey)</td>\n",
       "    </tr>\n",
       "    <tr>\n",
       "      <th>18</th>\n",
       "      <td>0.077470</td>\n",
       "      <td>(low fat yogurt)</td>\n",
       "    </tr>\n",
       "    <tr>\n",
       "      <th>19</th>\n",
       "      <td>0.129462</td>\n",
       "      <td>(milk)</td>\n",
       "    </tr>\n",
       "    <tr>\n",
       "      <th>20</th>\n",
       "      <td>0.237446</td>\n",
       "      <td>(mineral water)</td>\n",
       "    </tr>\n",
       "    <tr>\n",
       "      <th>21</th>\n",
       "      <td>0.066361</td>\n",
       "      <td>(olive oil)</td>\n",
       "    </tr>\n",
       "    <tr>\n",
       "      <th>22</th>\n",
       "      <td>0.094653</td>\n",
       "      <td>(pancakes)</td>\n",
       "    </tr>\n",
       "    <tr>\n",
       "      <th>23</th>\n",
       "      <td>0.043549</td>\n",
       "      <td>(salmon)</td>\n",
       "    </tr>\n",
       "    <tr>\n",
       "      <th>24</th>\n",
       "      <td>0.071693</td>\n",
       "      <td>(shrimp)</td>\n",
       "    </tr>\n",
       "    <tr>\n",
       "      <th>25</th>\n",
       "      <td>0.050955</td>\n",
       "      <td>(soup)</td>\n",
       "    </tr>\n",
       "    <tr>\n",
       "      <th>26</th>\n",
       "      <td>0.173900</td>\n",
       "      <td>(spaghetti)</td>\n",
       "    </tr>\n",
       "    <tr>\n",
       "      <th>27</th>\n",
       "      <td>0.067694</td>\n",
       "      <td>(tomatoes)</td>\n",
       "    </tr>\n",
       "    <tr>\n",
       "      <th>28</th>\n",
       "      <td>0.063250</td>\n",
       "      <td>(turkey)</td>\n",
       "    </tr>\n",
       "    <tr>\n",
       "      <th>29</th>\n",
       "      <td>0.058658</td>\n",
       "      <td>(whole wheat rice)</td>\n",
       "    </tr>\n",
       "    <tr>\n",
       "      <th>30</th>\n",
       "      <td>0.053325</td>\n",
       "      <td>(chocolate, mineral water)</td>\n",
       "    </tr>\n",
       "    <tr>\n",
       "      <th>31</th>\n",
       "      <td>0.050215</td>\n",
       "      <td>(eggs, mineral water)</td>\n",
       "    </tr>\n",
       "    <tr>\n",
       "      <th>32</th>\n",
       "      <td>0.040290</td>\n",
       "      <td>(ground beef, mineral water)</td>\n",
       "    </tr>\n",
       "    <tr>\n",
       "      <th>33</th>\n",
       "      <td>0.048585</td>\n",
       "      <td>(milk, mineral water)</td>\n",
       "    </tr>\n",
       "    <tr>\n",
       "      <th>34</th>\n",
       "      <td>0.058214</td>\n",
       "      <td>(spaghetti, mineral water)</td>\n",
       "    </tr>\n",
       "  </tbody>\n",
       "</table>\n",
       "</div>"
      ],
      "text/plain": [
       "     support                      itemsets\n",
       "0   0.087394                     (burgers)\n",
       "1   0.079099                        (cake)\n",
       "2   0.046956                   (champagne)\n",
       "3   0.058065                     (chicken)\n",
       "4   0.164420                   (chocolate)\n",
       "5   0.081321                     (cookies)\n",
       "6   0.050215                 (cooking oil)\n",
       "7   0.181010                        (eggs)\n",
       "8   0.079544                    (escalope)\n",
       "9   0.172715                (french fries)\n",
       "10  0.042957                 (fresh bread)\n",
       "11  0.063546             (frozen smoothie)\n",
       "12  0.095690           (frozen vegetables)\n",
       "13  0.050955               (grated cheese)\n",
       "14  0.132573                   (green tea)\n",
       "15  0.097467                 (ground beef)\n",
       "16  0.049178               (herb & pepper)\n",
       "17  0.046364                       (honey)\n",
       "18  0.077470              (low fat yogurt)\n",
       "19  0.129462                        (milk)\n",
       "20  0.237446               (mineral water)\n",
       "21  0.066361                   (olive oil)\n",
       "22  0.094653                    (pancakes)\n",
       "23  0.043549                      (salmon)\n",
       "24  0.071693                      (shrimp)\n",
       "25  0.050955                        (soup)\n",
       "26  0.173900                   (spaghetti)\n",
       "27  0.067694                    (tomatoes)\n",
       "28  0.063250                      (turkey)\n",
       "29  0.058658            (whole wheat rice)\n",
       "30  0.053325    (chocolate, mineral water)\n",
       "31  0.050215         (eggs, mineral water)\n",
       "32  0.040290  (ground beef, mineral water)\n",
       "33  0.048585         (milk, mineral water)\n",
       "34  0.058214    (spaghetti, mineral water)"
      ]
     },
     "execution_count": 39,
     "metadata": {},
     "output_type": "execute_result"
    }
   ],
   "source": [
    "import csv\n",
    "from mlxtend.preprocessing import TransactionEncoder\n",
    "from mlxtend.frequent_patterns import apriori\n",
    "\n",
    "# Read data from file store_data.csv and\n",
    "store_data = []\n",
    "with open(\"datasets/store_data_2.csv\") as csvFile:\n",
    "    reader = csv.reader(csvFile)\n",
    "    for row in reader:\n",
    "        store_data.append(list(filter(None, row)))\n",
    "\n",
    "# Use TransactionEncoder module to convert an array to DataFrame for Apriori algorithm in mlxtend\n",
    "te = TransactionEncoder()\n",
    "te_ary = te.fit(store_data).transform(store_data)\n",
    "data = pd.DataFrame(te_ary, columns=te.columns_)\n",
    "\n",
    "# Use Apriori algorithm from mlxtend\n",
    "frequent_itemsets_apriori = apriori(data, min_support=0.04, use_colnames=True)\n",
    "print('\\n=========== Apriori - Frequent itemsets with minimum support of 0.04 ===========')\n",
    "frequent_itemsets_apriori"
   ]
  },
  {
   "cell_type": "markdown",
   "metadata": {},
   "source": [
    "(c) Find the most frequent itemsets with more than 1 member and a support of more than 0.04 using the Apriori algorithm."
   ]
  },
  {
   "cell_type": "code",
   "execution_count": 38,
   "metadata": {
    "scrolled": false
   },
   "outputs": [
    {
     "name": "stdout",
     "output_type": "stream",
     "text": [
      "\n",
      "=========== Apriori - Frequent itemsets of length > 1 ===========\n"
     ]
    },
    {
     "data": {
      "text/html": [
       "<div>\n",
       "<style scoped>\n",
       "    .dataframe tbody tr th:only-of-type {\n",
       "        vertical-align: middle;\n",
       "    }\n",
       "\n",
       "    .dataframe tbody tr th {\n",
       "        vertical-align: top;\n",
       "    }\n",
       "\n",
       "    .dataframe thead th {\n",
       "        text-align: right;\n",
       "    }\n",
       "</style>\n",
       "<table border=\"1\" class=\"dataframe\">\n",
       "  <thead>\n",
       "    <tr style=\"text-align: right;\">\n",
       "      <th></th>\n",
       "      <th>support</th>\n",
       "      <th>itemsets</th>\n",
       "      <th>length</th>\n",
       "    </tr>\n",
       "  </thead>\n",
       "  <tbody>\n",
       "    <tr>\n",
       "      <th>30</th>\n",
       "      <td>0.053325</td>\n",
       "      <td>(chocolate, mineral water)</td>\n",
       "      <td>2</td>\n",
       "    </tr>\n",
       "    <tr>\n",
       "      <th>31</th>\n",
       "      <td>0.050215</td>\n",
       "      <td>(eggs, mineral water)</td>\n",
       "      <td>2</td>\n",
       "    </tr>\n",
       "    <tr>\n",
       "      <th>32</th>\n",
       "      <td>0.040290</td>\n",
       "      <td>(ground beef, mineral water)</td>\n",
       "      <td>2</td>\n",
       "    </tr>\n",
       "    <tr>\n",
       "      <th>33</th>\n",
       "      <td>0.048585</td>\n",
       "      <td>(milk, mineral water)</td>\n",
       "      <td>2</td>\n",
       "    </tr>\n",
       "    <tr>\n",
       "      <th>34</th>\n",
       "      <td>0.058214</td>\n",
       "      <td>(spaghetti, mineral water)</td>\n",
       "      <td>2</td>\n",
       "    </tr>\n",
       "  </tbody>\n",
       "</table>\n",
       "</div>"
      ],
      "text/plain": [
       "     support                      itemsets  length\n",
       "30  0.053325    (chocolate, mineral water)       2\n",
       "31  0.050215         (eggs, mineral water)       2\n",
       "32  0.040290  (ground beef, mineral water)       2\n",
       "33  0.048585         (milk, mineral water)       2\n",
       "34  0.058214    (spaghetti, mineral water)       2"
      ]
     },
     "execution_count": 38,
     "metadata": {},
     "output_type": "execute_result"
    }
   ],
   "source": [
    "frequent_itemsets_apriori['length'] = frequent_itemsets_apriori['itemsets'].apply(\n",
    "    lambda x: len(x))\n",
    "print('\\n=========== Apriori - Frequent itemsets of length > 1 ===========')\n",
    "frequent_itemsets_apriori[(frequent_itemsets_apriori['length'] > 1)]"
   ]
  },
  {
   "cell_type": "markdown",
   "metadata": {},
   "source": [
    "(d) Find the itemsets having min_confidence=0.3 and min_lift=1.2. Print support, confidence, and lift of the filtered rules in one table. How do you interpret the quality of the discovered rules?"
   ]
  },
  {
   "cell_type": "code",
   "execution_count": 54,
   "metadata": {},
   "outputs": [
    {
     "name": "stdout",
     "output_type": "stream",
     "text": [
      "\n",
      "=========== Apriori - rules_apriori with min_support:0.04 min_confidence:0.3 min_lift:1.2 ===========\n"
     ]
    },
    {
     "data": {
      "text/html": [
       "<div>\n",
       "<style scoped>\n",
       "    .dataframe tbody tr th:only-of-type {\n",
       "        vertical-align: middle;\n",
       "    }\n",
       "\n",
       "    .dataframe tbody tr th {\n",
       "        vertical-align: top;\n",
       "    }\n",
       "\n",
       "    .dataframe thead th {\n",
       "        text-align: right;\n",
       "    }\n",
       "</style>\n",
       "<table border=\"1\" class=\"dataframe\">\n",
       "  <thead>\n",
       "    <tr style=\"text-align: right;\">\n",
       "      <th></th>\n",
       "      <th>antecedents</th>\n",
       "      <th>consequents</th>\n",
       "      <th>support</th>\n",
       "      <th>confidence</th>\n",
       "      <th>lift</th>\n",
       "    </tr>\n",
       "  </thead>\n",
       "  <tbody>\n",
       "    <tr>\n",
       "      <th>0</th>\n",
       "      <td>(chocolate)</td>\n",
       "      <td>(mineral water)</td>\n",
       "      <td>0.053325</td>\n",
       "      <td>0.324324</td>\n",
       "      <td>1.365885</td>\n",
       "    </tr>\n",
       "    <tr>\n",
       "      <th>2</th>\n",
       "      <td>(ground beef)</td>\n",
       "      <td>(mineral water)</td>\n",
       "      <td>0.040290</td>\n",
       "      <td>0.413374</td>\n",
       "      <td>1.740915</td>\n",
       "    </tr>\n",
       "    <tr>\n",
       "      <th>4</th>\n",
       "      <td>(milk)</td>\n",
       "      <td>(mineral water)</td>\n",
       "      <td>0.048585</td>\n",
       "      <td>0.375286</td>\n",
       "      <td>1.580509</td>\n",
       "    </tr>\n",
       "    <tr>\n",
       "      <th>6</th>\n",
       "      <td>(spaghetti)</td>\n",
       "      <td>(mineral water)</td>\n",
       "      <td>0.058214</td>\n",
       "      <td>0.334753</td>\n",
       "      <td>1.409805</td>\n",
       "    </tr>\n",
       "  </tbody>\n",
       "</table>\n",
       "</div>"
      ],
      "text/plain": [
       "     antecedents      consequents   support  confidence      lift\n",
       "0    (chocolate)  (mineral water)  0.053325    0.324324  1.365885\n",
       "2  (ground beef)  (mineral water)  0.040290    0.413374  1.740915\n",
       "4         (milk)  (mineral water)  0.048585    0.375286  1.580509\n",
       "6    (spaghetti)  (mineral water)  0.058214    0.334753  1.409805"
      ]
     },
     "execution_count": 54,
     "metadata": {},
     "output_type": "execute_result"
    }
   ],
   "source": [
    "from mlxtend.frequent_patterns import association_rules\n",
    "rules_apriori = association_rules(frequent_itemsets_apriori,\n",
    "                                  metric=\"lift\", min_threshold=1.2)\n",
    "itemsets = rules_apriori[(rules_apriori['confidence'] > 0.3)]\n",
    "print('\\n=========== Apriori - rules_apriori with min_support:0.04 min_confidence:0.3 min_lift:1.2 ===========')\n",
    "itemsets[['antecedents','consequents','support','confidence','lift']]"
   ]
  },
  {
   "cell_type": "markdown",
   "metadata": {},
   "source": [
    "Explanation:\n",
    "- Initial filtering with min support 0.04 resulted in 35 frequent itemsets\n",
    "- Adding confidence(0.3) and lift(1.2) filters reduced the results to 4 itemsets\n",
    "- Lift=1.2>1 shows that the output itemsets are positively co-related"
   ]
  },
  {
   "cell_type": "markdown",
   "metadata": {},
   "source": [
    "(e) Apply the FP-Growth algorithm for all the settings of b, c, and d."
   ]
  },
  {
   "cell_type": "code",
   "execution_count": 53,
   "metadata": {},
   "outputs": [
    {
     "name": "stdout",
     "output_type": "stream",
     "text": [
      "\n",
      "=========== FP-Growth - Frequent itemsets with minimum support of 0.04 ===========\n",
      "     support                      itemsets\n",
      "0   0.237446               (mineral water)\n",
      "1   0.132573                   (green tea)\n",
      "2   0.077470              (low fat yogurt)\n",
      "3   0.071693                      (shrimp)\n",
      "4   0.066361                   (olive oil)\n",
      "5   0.063546             (frozen smoothie)\n",
      "6   0.046364                       (honey)\n",
      "7   0.043549                      (salmon)\n",
      "8   0.172715                (french fries)\n",
      "9   0.173900                   (spaghetti)\n",
      "10  0.079099                        (cake)\n",
      "11  0.181010                        (eggs)\n",
      "12  0.129462                        (milk)\n",
      "13  0.087394                     (burgers)\n",
      "14  0.164420                   (chocolate)\n",
      "15  0.067694                    (tomatoes)\n",
      "16  0.058065                     (chicken)\n",
      "17  0.095690           (frozen vegetables)\n",
      "18  0.097467                 (ground beef)\n",
      "19  0.081321                     (cookies)\n",
      "20  0.079544                    (escalope)\n",
      "21  0.094653                    (pancakes)\n",
      "22  0.058658            (whole wheat rice)\n",
      "23  0.063250                      (turkey)\n",
      "24  0.042957                 (fresh bread)\n",
      "25  0.049178               (herb & pepper)\n",
      "26  0.050955               (grated cheese)\n",
      "27  0.050215                 (cooking oil)\n",
      "28  0.050955                        (soup)\n",
      "29  0.046956                   (champagne)\n",
      "30  0.058214    (spaghetti, mineral water)\n",
      "31  0.050215         (eggs, mineral water)\n",
      "32  0.048585         (milk, mineral water)\n",
      "33  0.053325    (chocolate, mineral water)\n",
      "34  0.040290  (ground beef, mineral water)\n",
      "\n",
      "=========== FP-Growth - Frequent itemsets of length > 1 ===========\n",
      "     support                      itemsets  length\n",
      "30  0.058214    (spaghetti, mineral water)       2\n",
      "31  0.050215         (eggs, mineral water)       2\n",
      "32  0.048585         (milk, mineral water)       2\n",
      "33  0.053325    (chocolate, mineral water)       2\n",
      "34  0.040290  (ground beef, mineral water)       2\n",
      "\n",
      "=========== FP-Growth - rules_fpgrowth with min_support:0.04 min_confidence:0.3 min_lift:1.2 ===========\n"
     ]
    },
    {
     "data": {
      "text/html": [
       "<div>\n",
       "<style scoped>\n",
       "    .dataframe tbody tr th:only-of-type {\n",
       "        vertical-align: middle;\n",
       "    }\n",
       "\n",
       "    .dataframe tbody tr th {\n",
       "        vertical-align: top;\n",
       "    }\n",
       "\n",
       "    .dataframe thead th {\n",
       "        text-align: right;\n",
       "    }\n",
       "</style>\n",
       "<table border=\"1\" class=\"dataframe\">\n",
       "  <thead>\n",
       "    <tr style=\"text-align: right;\">\n",
       "      <th></th>\n",
       "      <th>antecedents</th>\n",
       "      <th>consequents</th>\n",
       "      <th>support</th>\n",
       "      <th>confidence</th>\n",
       "      <th>lift</th>\n",
       "    </tr>\n",
       "  </thead>\n",
       "  <tbody>\n",
       "    <tr>\n",
       "      <th>0</th>\n",
       "      <td>(spaghetti)</td>\n",
       "      <td>(mineral water)</td>\n",
       "      <td>0.058214</td>\n",
       "      <td>0.334753</td>\n",
       "      <td>1.409805</td>\n",
       "    </tr>\n",
       "    <tr>\n",
       "      <th>2</th>\n",
       "      <td>(milk)</td>\n",
       "      <td>(mineral water)</td>\n",
       "      <td>0.048585</td>\n",
       "      <td>0.375286</td>\n",
       "      <td>1.580509</td>\n",
       "    </tr>\n",
       "    <tr>\n",
       "      <th>4</th>\n",
       "      <td>(chocolate)</td>\n",
       "      <td>(mineral water)</td>\n",
       "      <td>0.053325</td>\n",
       "      <td>0.324324</td>\n",
       "      <td>1.365885</td>\n",
       "    </tr>\n",
       "    <tr>\n",
       "      <th>6</th>\n",
       "      <td>(ground beef)</td>\n",
       "      <td>(mineral water)</td>\n",
       "      <td>0.040290</td>\n",
       "      <td>0.413374</td>\n",
       "      <td>1.740915</td>\n",
       "    </tr>\n",
       "  </tbody>\n",
       "</table>\n",
       "</div>"
      ],
      "text/plain": [
       "     antecedents      consequents   support  confidence      lift\n",
       "0    (spaghetti)  (mineral water)  0.058214    0.334753  1.409805\n",
       "2         (milk)  (mineral water)  0.048585    0.375286  1.580509\n",
       "4    (chocolate)  (mineral water)  0.053325    0.324324  1.365885\n",
       "6  (ground beef)  (mineral water)  0.040290    0.413374  1.740915"
      ]
     },
     "execution_count": 53,
     "metadata": {},
     "output_type": "execute_result"
    }
   ],
   "source": [
    "from mlxtend.frequent_patterns import fpgrowth\n",
    "frequent_itemsets_fpgrowth = fpgrowth(\n",
    "    data, min_support=0.04, use_colnames=True)\n",
    "print('\\n=========== FP-Growth - Frequent itemsets with minimum support of 0.04 ===========')\n",
    "print(frequent_itemsets_fpgrowth)\n",
    "\n",
    "frequent_itemsets_fpgrowth['length'] = frequent_itemsets_fpgrowth['itemsets'].apply(\n",
    "    lambda x: len(x))\n",
    "print('\\n=========== FP-Growth - Frequent itemsets of length > 1 ===========')\n",
    "print(frequent_itemsets_fpgrowth[(frequent_itemsets_fpgrowth['length'] > 1)])\n",
    "\n",
    "rules_fpgrowth = association_rules(frequent_itemsets_fpgrowth,\n",
    "                                   metric=\"lift\", min_threshold=1.2)\n",
    "itemsets = rules_fpgrowth[(rules_fpgrowth['confidence'] > 0.3)]\n",
    "print('\\n=========== FP-Growth - rules_fpgrowth with min_support:0.04 min_confidence:0.3 min_lift:1.2 ===========')\n",
    "itemsets[['antecedents','consequents','support','confidence','lift']]"
   ]
  },
  {
   "cell_type": "markdown",
   "metadata": {},
   "source": [
    "## Question 4 - Text Mining (15 points): "
   ]
  },
  {
   "cell_type": "markdown",
   "metadata": {},
   "source": [
    "In this question, we use <b>sms_data.csv</b>. "
   ]
  },
  {
   "cell_type": "code",
   "execution_count": 1,
   "metadata": {
    "scrolled": true
   },
   "outputs": [],
   "source": [
    "# your imports\n",
    "import pandas as pd\n",
    "from sklearn.model_selection import train_test_split\n",
    "import nltk\n",
    "from nltk.corpus import stopwords\n",
    "from nltk.stem import PorterStemmer\n",
    "from sklearn.pipeline import Pipeline\n",
    "from sklearn.feature_extraction.text import CountVectorizer\n",
    "from sklearn.feature_extraction.text import TfidfTransformer\n",
    "from sklearn.linear_model import LogisticRegression\n",
    "# from sklearn.neural_network import MLPClassifier\n",
    "import gensim\n",
    "from gensim.models import Doc2Vec\n",
    "import multiprocessing\n",
    "from tqdm import tqdm\n",
    "from sklearn import utils\n",
    "from sklearn.metrics import confusion_matrix\n",
    "from sklearn.metrics import accuracy_score, f1_score"
   ]
  },
  {
   "cell_type": "markdown",
   "metadata": {},
   "source": [
    "a) Load the dataset and create the <b>sampled_data</b> dataset which includes 90% of the data. Use the matriculation number of one of the group members as seed. Export the sampled dataset. Split the sampled data into training (80%) and test (20%) data preserving the distribution based on \"Label\".\n",
    "\n",
    "<font color='red'>Important!</font> Make sure that you submit your extracted dataset with your results in Moodle."
   ]
  },
  {
   "cell_type": "code",
   "execution_count": 2,
   "metadata": {},
   "outputs": [],
   "source": [
    "# Create 90% sms_data_sampled from sms_data\n",
    "# Step 1: Read the CSV file\n",
    "df_sms_data_original = pd.read_csv(\n",
    "    'datasets/sms_data.csv', delimiter=\";\", encoding=\"unicode_escape\")\n",
    "# Step 2: Select 90% from the dataset by random sampling, with seed =\n",
    "df_sms_data_sampled = df_sms_data_original.sample(\n",
    "    frac=0.9, random_state=416808)\n",
    "# Step3: Export the result to csv file\n",
    "df_sms_data_sampled.to_csv(\n",
    "    'datasets/sms_data_sampled.csv', index=False, header=True, sep=\";\", encoding=\"unicode_escape\")\n",
    "\n",
    "# prepare the data\n",
    "input_data = df_sms_data_sampled.iloc[:, 1]\n",
    "target_data = df_sms_data_sampled.iloc[:, 0]\n",
    "\n",
    "# Split into 80% training and 20% test set\n",
    "series_input_train_data, series_input_test_data, series_target_train_data, series_target_test_data = train_test_split(input_data, target_data, test_size=0.2, stratify=target_data, random_state=42, shuffle=True)"
   ]
  },
  {
   "cell_type": "markdown",
   "metadata": {},
   "source": [
    "### Classification\n",
    "\n",
    "In the following tasks, train each of the specified models with the training data and give for each the accuracy on the training data."
   ]
  },
  {
   "cell_type": "markdown",
   "metadata": {},
   "source": [
    "(b) Model based on the binary document-term matrix\n",
    "\n",
    "Perform preprocessing on the training corpus (all lowercase, no punctuation, tokenization, stemming, and stopword removal) and obtain a binary document-term matrix. Train a logistic classifier with the 'Label' as target feature."
   ]
  },
  {
   "cell_type": "code",
   "execution_count": 4,
   "metadata": {},
   "outputs": [],
   "source": [
    "# Tokenize and remove puntuation\n",
    "tokenizer = nltk.RegexpTokenizer(r\"\\w+\")\n",
    "# Stopwords\n",
    "stop_words = set(stopwords.words(\"english\"))\n",
    "# Stemmer\n",
    "ps = PorterStemmer()\n",
    "\n",
    "def preProcessSeries(series):\n",
    "    for index, value in series.iteritems():\n",
    "        filtered_stemmed_words = []\n",
    "        for w in tokenizer.tokenize(series[index].lower()):\n",
    "            if w.lower() not in stop_words:\n",
    "                filtered_stemmed_words.append(ps.stem(w))\n",
    "        series[index] = ' '.join(filtered_stemmed_words)\n",
    "\n",
    "# Custom preprocess train data\n",
    "preProcessSeries(series_input_train_data)\n",
    "\n",
    "# Filtering out input and target features separately\n",
    "input_train_data = series_input_train_data.values\n",
    "target_train_data = series_target_train_data.values\n",
    "\n",
    "model1_classifier = Pipeline([('vect', CountVectorizer()), ('tf-idf', TfidfTransformer()),\n",
    "                     ('logistic', LogisticRegression(n_jobs=1, C=1e5))])\n",
    "model1_classifier = model1_classifier.fit(input_train_data, target_train_data)"
   ]
  },
  {
   "cell_type": "markdown",
   "metadata": {},
   "source": [
    "(c) Model based on doc2vec\n",
    "\n",
    "- Perform preprocessing on the training corpus (all lowercase, no punctuation, tokenization, stemming, and stopword removal). \n",
    "- Obtain a doc2vec embedding in order to reduce the dimension of the document vector. Explain which vector size you use and why.\n",
    "- Use the doc2vec model you just trained to convert the training set to a set of document vectors.\n",
    "- Train a logistic classifier with 'Label' as target feature."
   ]
  },
  {
   "cell_type": "code",
   "execution_count": 15,
   "metadata": {
    "scrolled": false
   },
   "outputs": [
    {
     "name": "stderr",
     "output_type": "stream",
     "text": [
      "100%|██████████| 4012/4012 [00:00<00:00, 4088325.47it/s]\n",
      "100%|██████████| 4012/4012 [00:00<00:00, 4836892.11it/s]\n",
      "100%|██████████| 4012/4012 [00:00<00:00, 2668074.78it/s]\n",
      "100%|██████████| 4012/4012 [00:00<00:00, 4730825.88it/s]\n",
      "100%|██████████| 4012/4012 [00:00<00:00, 3809723.26it/s]\n",
      "100%|██████████| 4012/4012 [00:00<00:00, 3394703.98it/s]\n",
      "100%|██████████| 4012/4012 [00:00<00:00, 3595629.84it/s]\n",
      "100%|██████████| 4012/4012 [00:00<00:00, 3865735.73it/s]\n",
      "100%|██████████| 4012/4012 [00:00<00:00, 3338799.14it/s]\n",
      "100%|██████████| 4012/4012 [00:00<00:00, 3636816.00it/s]\n",
      "100%|██████████| 4012/4012 [00:00<00:00, 3713870.59it/s]\n",
      "100%|██████████| 4012/4012 [00:00<00:00, 2455142.64it/s]\n",
      "100%|██████████| 4012/4012 [00:00<00:00, 4196395.92it/s]\n",
      "100%|██████████| 4012/4012 [00:00<00:00, 4356082.75it/s]\n",
      "100%|██████████| 4012/4012 [00:00<00:00, 4667835.69it/s]\n",
      "100%|██████████| 4012/4012 [00:00<00:00, 5252043.59it/s]\n",
      "100%|██████████| 4012/4012 [00:00<00:00, 4222722.12it/s]\n",
      "100%|██████████| 4012/4012 [00:00<00:00, 4315862.44it/s]\n",
      "100%|██████████| 4012/4012 [00:00<00:00, 4342592.94it/s]\n",
      "100%|██████████| 4012/4012 [00:00<00:00, 4626765.92it/s]\n",
      "100%|██████████| 4012/4012 [00:00<00:00, 4596434.76it/s]\n",
      "100%|██████████| 4012/4012 [00:00<00:00, 5379650.78it/s]\n",
      "100%|██████████| 4012/4012 [00:00<00:00, 4736151.89it/s]\n",
      "100%|██████████| 4012/4012 [00:00<00:00, 4701745.64it/s]\n",
      "100%|██████████| 4012/4012 [00:00<00:00, 4577678.90it/s]\n",
      "100%|██████████| 4012/4012 [00:00<00:00, 4635688.06it/s]\n",
      "100%|██████████| 4012/4012 [00:00<00:00, 4517462.46it/s]\n",
      "100%|██████████| 4012/4012 [00:00<00:00, 3148867.45it/s]\n",
      "100%|██████████| 4012/4012 [00:00<00:00, 5136614.06it/s]\n",
      "100%|██████████| 4012/4012 [00:00<00:00, 4349327.38it/s]\n",
      "100%|██████████| 4012/4012 [00:00<00:00, 3001703.11it/s]\n"
     ]
    },
    {
     "data": {
      "text/plain": [
       "LogisticRegression(C=100000.0, max_iter=1000, n_jobs=1)"
      ]
     },
     "execution_count": 15,
     "metadata": {},
     "output_type": "execute_result"
    }
   ],
   "source": [
    "# Tokenizing, normalizing, and creating lists of TaggedDocument objects\n",
    "tagged_train_data = []\n",
    "for i in range(0, len(input_train_data)):\n",
    "    tagged_train_data.append(gensim.models.doc2vec.TaggedDocument(words=gensim.utils.simple_preprocess(\n",
    "        input_train_data[i]), tags=[target_train_data[i]]))\n",
    "\n",
    "cores = multiprocessing.cpu_count()\n",
    "# Building the vocabulary\n",
    "doc2vec_model = Doc2Vec(dm=0, vector_size=150, workers=cores)\n",
    "doc2vec_model.build_vocab([x for x in tqdm(tagged_train_data)])\n",
    "# Training the doc2vec model\n",
    "for epoch in range(30):\n",
    "    doc2vec_model.train(utils.shuffle([x for x in tqdm(\n",
    "        tagged_train_data)]), total_examples=len(tagged_train_data), epochs=1)\n",
    "    doc2vec_model.alpha -= 0.002\n",
    "    doc2vec_model.min_alpha = doc2vec_model.alpha\n",
    "# Building the feature vector for the classifier\n",
    "def vec_for_learning(model, docs):\n",
    "    doc2vec_vectors = [model.infer_vector(doc.words) for doc in docs]\n",
    "    targets = [doc.tags[0] for doc in docs]\n",
    "    return doc2vec_vectors, targets\n",
    "# Translating docs into vectors for training and test set\n",
    "input_train_vectors, target_train_vectors = vec_for_learning(doc2vec_model, tagged_train_data)\n",
    "# Training a classification model\n",
    "model2_classifier = LogisticRegression(n_jobs=1, C=1e5, max_iter=1000)\n",
    "model2_classifier.fit(input_train_vectors, target_train_vectors)"
   ]
  },
  {
   "cell_type": "markdown",
   "metadata": {},
   "source": [
    "Explanation: Explain which vector size you use and why.\n",
    "The vector size is directly propotional to the dimensions that represents the network. Increasing the size increases the efficiency of the model but will also more data to train the vectors. It is is also directly propotional to memory requirements. Usually it is between 100-300. I have chosen the vector size to be 150."
   ]
  },
  {
   "cell_type": "markdown",
   "metadata": {},
   "source": [
    "\n",
    "### Evaluation\n",
    "For the following tasks, use the test data.\n",
    "\n",
    "(d) Predict the classification with the two models on the test data. Preprocess the data if necessary."
   ]
  },
  {
   "cell_type": "code",
   "execution_count": 17,
   "metadata": {},
   "outputs": [],
   "source": [
    "# Custom preprocess data\n",
    "preProcessSeries(series_input_test_data)\n",
    "\n",
    "# Filtering out input and target features separately\n",
    "input_test_data = series_input_test_data.values\n",
    "target_test_data = series_target_test_data.values\n",
    "\n",
    "# Model 1\n",
    "# Predict the classification\n",
    "predicted_results_model1 = model1_classifier.predict(input_test_data)\n",
    "\n",
    "# Model 2\n",
    "# Tokenizing, normalizing, and creating lists of TaggedDocument objects\n",
    "tagged_test_data = []\n",
    "for i in range(0, len(input_test_data)):\n",
    "    tagged_test_data.append(gensim.models.doc2vec.TaggedDocument(words=gensim.utils.simple_preprocess(\n",
    "        input_test_data[i]), tags=[target_test_data[i]]))\n",
    "# Translating docs into vectors for training and test set\n",
    "input_test_vectors, target_test_vectors = vec_for_learning(doc2vec_model, tagged_test_data)\n",
    "# Predict the classification\n",
    "predicted_results_model2 = model2_classifier.predict(input_test_vectors)"
   ]
  },
  {
   "cell_type": "markdown",
   "metadata": {},
   "source": [
    "Explanation:\n",
    "- For model1, the test data is predicted right away\n",
    "- For model2, the test data is first tagged and converted into vectors which is then supplied to the logistic model trained earlier."
   ]
  },
  {
   "cell_type": "markdown",
   "metadata": {},
   "source": [
    "(e) Obtain the confusion matrices for the two models and the prediction on the test data."
   ]
  },
  {
   "cell_type": "code",
   "execution_count": 8,
   "metadata": {},
   "outputs": [
    {
     "name": "stdout",
     "output_type": "stream",
     "text": [
      "\n",
      "----CONFUSION MATRICES-----\n",
      "\n",
      "==============\n",
      "Model 1\n",
      "==============\n",
      "Confusion matrix -> \n",
      " [[868   1]\n",
      " [ 19 115]]\n",
      "==============\n",
      "Model 2\n",
      "==============\n",
      "Confusion matrix -> \n",
      " [[852  17]\n",
      " [ 71  63]]\n",
      "-------------\n",
      "\n"
     ]
    }
   ],
   "source": [
    "def printConfusionMatrices(inputModelSets):\n",
    "    confusionMatrices = []\n",
    "    print('\\n----CONFUSION MATRICES-----\\n')\n",
    "    for i in range(len(inputModelSets)):\n",
    "        print('==============')\n",
    "        print('Model %d' % (i+1))\n",
    "        print('==============')\n",
    "        print('Confusion matrix -> \\n', confusion_matrix(inputModelSets[i][0], inputModelSets[i][1]))\n",
    "    print('-------------\\n')\n",
    "\n",
    "printConfusionMatrices([[target_test_data, predicted_results_model1],[target_test_vectors, predicted_results_model2]])"
   ]
  },
  {
   "cell_type": "markdown",
   "metadata": {},
   "source": [
    "(f) Obtain accuracy and F1-score for the prediction of the two different models on the test data."
   ]
  },
  {
   "cell_type": "code",
   "execution_count": 21,
   "metadata": {},
   "outputs": [
    {
     "name": "stdout",
     "output_type": "stream",
     "text": [
      "Model 1 - Test accuracy 0.9810568295114656\n",
      "Model 1 - Test F1 score: 0.980507075271388\n",
      "Model 2 - Test accuracy 0.9232303090727817\n",
      "Model 2 - Test F1 score: 0.9164532588763691\n"
     ]
    }
   ],
   "source": [
    "# Classification performance metrics for model 1\n",
    "print('Model 1 - Test accuracy %s' % accuracy_score(target_test_data, predicted_results_model1))\n",
    "print('Model 1 - Test F1 score: {}'.format(f1_score(target_test_data, predicted_results_model1, average='weighted')))\n",
    "# Classification performance metrics for model 2\n",
    "print('Model 2 - Test accuracy %s' % accuracy_score(target_test_vectors, predicted_results_model2))\n",
    "print('Model 2 - Test F1 score: {}'.format(f1_score(target_test_vectors, predicted_results_model2, average='weighted')))"
   ]
  },
  {
   "cell_type": "markdown",
   "metadata": {},
   "source": [
    "(g) Briefly comment on the quality of the two models. Interpret the results retrieved in the evaluation part."
   ]
  },
  {
   "cell_type": "markdown",
   "metadata": {},
   "source": [
    "Explanation:\n",
    "- The resultant accuracies and f1-scores for both the model show that the performance is pretty well i.e. above 90%.\n",
    "- However, the model based on the binary document-term matrix performed a bit better than model based on doc2vec on the given dataset."
   ]
  },
  {
   "cell_type": "markdown",
   "metadata": {},
   "source": [
    "### Language model\n",
    "\n",
    "For the following tasks use the <b>sampled_data</b>.\n",
    "\n",
    "(h) Create two lists, one for ham and one for spam, containing all messages.\n",
    "For ham and spam separately, build a bigram language model using the initial dataset (before splitting to training and test data). Do not perform stemming nor stopword removal for this task, but apply other preprocessing steps, such as all to lowercase, no punctuation and tokenization. Use both right and left padding, and manage unknown terms by using a dedicated token."
   ]
  },
  {
   "cell_type": "code",
   "execution_count": 22,
   "metadata": {},
   "outputs": [],
   "source": [
    "# imports\n",
    "import pandas as pd\n",
    "from nltk.lm.preprocessing import padded_everygram_pipeline\n",
    "\n",
    "df_sampled_sms_data = pd.read_csv(\n",
    "    'datasets/sms_data_sampled.csv', delimiter=\";\", encoding=\"unicode_escape\")\n",
    "\n",
    "ham_messages = []\n",
    "spam_messages = []\n",
    "\n",
    "\n",
    "def splitSMSDF(df):\n",
    "    for index, row in df.iterrows():\n",
    "        if row['Label'] == 'ham':\n",
    "            ham_messages.append(row['Text'])\n",
    "        else:\n",
    "            spam_messages.append(row['Text'])\n",
    "\n",
    "\n",
    "splitSMSDF(df_sampled_sms_data)\n",
    "\n",
    "tokenizer = nltk.RegexpTokenizer(r\"\\w+\")\n",
    "\n",
    "\n",
    "def tokenizeMessages(messages):\n",
    "    tokenized_messages = []\n",
    "    for message in messages:\n",
    "        tokenized_messages.append(tokenizer.tokenize(message.lower()))\n",
    "    return tokenized_messages\n",
    "\n",
    "\n",
    "tokenized_ham_messages = tokenizeMessages(ham_messages)\n",
    "tokenized_spam_messages = tokenizeMessages(spam_messages)\n",
    "\n",
    "train_ham_bigram, vocab_ham_bigram = padded_everygram_pipeline(\n",
    "    2, tokenized_ham_messages)\n",
    "train_spam_bigram, vocab_spam_bigram = padded_everygram_pipeline(\n",
    "    2, tokenized_spam_messages)"
   ]
  },
  {
   "cell_type": "markdown",
   "metadata": {},
   "source": [
    "(i) For each message groups, use the correspondent language model from (h) to generate, using MLE, a sentence of fifteen words using the following terms as seed:\n",
    "- 'hello'\n",
    "- 'yes'\n",
    "- 'but'"
   ]
  },
  {
   "cell_type": "code",
   "execution_count": 23,
   "metadata": {},
   "outputs": [
    {
     "name": "stdout",
     "output_type": "stream",
     "text": [
      "\n",
      "==== Using spam messages with bigram model ====\n",
      "\n",
      "Generate sentence - hello ->\n",
      " hello we have 1 week chat to a 1500 bonus special win to 69696 now only\n",
      "\n",
      "Generate sentence - yes ->\n",
      " yes for removal send a good luck for 3 for your free entry into our mobile\n",
      "\n",
      "Generate sentence - but ->\n",
      " but it to stop send chat just txt 1 50 increments help08718728876. or call 08712402050\n",
      "\n",
      "==== Using ham messages with bigram model ====\n",
      "\n",
      "Generate sentence - hello ->\n",
      " hello how goes you know exactly. need to keep in ur college. all ur\n",
      "\n",
      "Generate sentence - yes ->\n",
      " yes they don t sent this the child s at mu you scream and how many\n",
      "\n",
      "Generate sentence - but ->\n",
      " but i m leaving 4 steve mate cos i had 2 is slowing down to plan\n"
     ]
    }
   ],
   "source": [
    "from nltk.lm import MLE\n",
    "\n",
    "spam_bigram_model = MLE(2)\n",
    "spam_bigram_model.fit(train_spam_bigram, vocabulary_text=vocab_spam_bigram)\n",
    "ham_bigram_model = MLE(2)\n",
    "ham_bigram_model.fit(train_ham_bigram, vocabulary_text=vocab_ham_bigram)\n",
    "\n",
    "\n",
    "def generateSentence(model, num_words, random_seed=42, text_seed=[]):\n",
    "    sentence = text_seed[0]\n",
    "    for token in model.generate(num_words, text_seed=text_seed):\n",
    "        if token == '<s>':\n",
    "            continue\n",
    "        if token == '</s>':\n",
    "            sentence += '.'\n",
    "            continue\n",
    "        sentence = sentence + ' ' + token\n",
    "    return sentence\n",
    "\n",
    "\n",
    "print('\\n==== Using spam messages with bigram model ====')\n",
    "print('\\nGenerate sentence - hello ->\\n',\n",
    "      generateSentence(spam_bigram_model, 15, 42, text_seed=['hello']))\n",
    "print('\\nGenerate sentence - yes ->\\n',\n",
    "      generateSentence(spam_bigram_model, 15, 42, text_seed=['yes']))\n",
    "print('\\nGenerate sentence - but ->\\n',\n",
    "      generateSentence(spam_bigram_model, 15, 42, text_seed=['but']))\n",
    "print('\\n==== Using ham messages with bigram model ====')\n",
    "print('\\nGenerate sentence - hello ->\\n',\n",
    "      generateSentence(ham_bigram_model, 15, 42, text_seed=['hello']))\n",
    "print('\\nGenerate sentence - yes ->\\n',\n",
    "      generateSentence(ham_bigram_model, 15, 42, text_seed=['yes']))\n",
    "print('\\nGenerate sentence - but ->\\n',\n",
    "      generateSentence(ham_bigram_model, 15, 42, text_seed=['but']))"
   ]
  },
  {
   "cell_type": "markdown",
   "metadata": {},
   "source": [
    "(j) Build a trigram model with the same data as in the previous task. Use both right and left padding, and manage unknown terms by using a dedicated token."
   ]
  },
  {
   "cell_type": "code",
   "execution_count": 24,
   "metadata": {},
   "outputs": [],
   "source": [
    "train_ham_trigram, vocab_ham_trigram = padded_everygram_pipeline(3, tokenized_ham_messages)\n",
    "train_spam_trigram, vocab_spam_trigram = padded_everygram_pipeline(\n",
    "    3, tokenized_spam_messages)"
   ]
  },
  {
   "cell_type": "markdown",
   "metadata": {},
   "source": [
    "(k) For each message group (ham and spam), use the correspondent language model from the previous qustion to generate, using MLE, a sentence of fifteen words using the following terms as seed:\n",
    "- 'hello'\n",
    "- 'yes'\n",
    "- 'but'"
   ]
  },
  {
   "cell_type": "code",
   "execution_count": 25,
   "metadata": {},
   "outputs": [
    {
     "name": "stdout",
     "output_type": "stream",
     "text": [
      "\n",
      "==== Using spam messages with trigram model ====\n",
      "\n",
      "Generate sentence - hello ->\n",
      " hello darling how are you today i would love to satisfy men home alone feeling randy\n",
      "\n",
      "Generate sentence - yes ->\n",
      " yes 434 or no 165 see her www sms ac u bootydelious stop send stop to\n",
      "\n",
      "Generate sentence - but ->\n",
      " but left no message 07008009200...........\n",
      "\n",
      "==== Using ham messages with trigram model ====\n",
      "\n",
      "Generate sentence - hello ->\n",
      " hello caroline at the blue blue bay gud mrng.......\n",
      "\n",
      "Generate sentence - yes ->\n",
      " yes i can meet her...........\n",
      "\n",
      "Generate sentence - but ->\n",
      " but i din get ur full msg sometext is missing send it in the morning.\n"
     ]
    }
   ],
   "source": [
    "spam_trigram_model = MLE(3)\n",
    "spam_trigram_model.fit(train_spam_trigram, vocabulary_text=vocab_spam_trigram)\n",
    "ham_trigram_model = MLE(3)\n",
    "ham_trigram_model.fit(train_ham_trigram, vocabulary_text=vocab_ham_trigram)\n",
    "\n",
    "print('\\n==== Using spam messages with trigram model ====')\n",
    "print('\\nGenerate sentence - hello ->\\n',\n",
    "      generateSentence(spam_trigram_model, 15, 42, text_seed=['hello']))\n",
    "print('\\nGenerate sentence - yes ->\\n',\n",
    "      generateSentence(spam_trigram_model, 15, 42, text_seed=['yes']))\n",
    "print('\\nGenerate sentence - but ->\\n',\n",
    "      generateSentence(spam_trigram_model, 15, 42, text_seed=['but']))\n",
    "print('\\n==== Using ham messages with trigram model ====')\n",
    "print('\\nGenerate sentence - hello ->\\n',\n",
    "      generateSentence(ham_trigram_model, 15, 42, text_seed=['hello']))\n",
    "print('\\nGenerate sentence - yes ->\\n',\n",
    "      generateSentence(ham_trigram_model, 15, 42, text_seed=['yes']))\n",
    "print('\\nGenerate sentence - but ->\\n',\n",
    "      generateSentence(ham_trigram_model, 15, 42, text_seed=['but']))"
   ]
  },
  {
   "cell_type": "markdown",
   "metadata": {},
   "source": [
    "(l) Compare the quality of the generated text. Which model performs better? In general, which differences are there in using trigrams as opposed to bigrams?"
   ]
  },
  {
   "cell_type": "markdown",
   "metadata": {},
   "source": [
    "Explanation: \n",
    "- The results show that the sentences generated from trigram are more meaningful and correct in comparision to the ones created from bigram model.\n",
    "- The reason for this is because in bigram model it takes only one preceding word into account for predicting a new word. On the other hand, in trigram model it takes 2 preceding words into account for prediction and hence have more contextual info thus performing better.\n",
    "- In general for n-gram the higher the n is the better the results will be. Having said that the higher the n the higher will be memory and resource utilization. It is a trade of between better results vs memory utilization."
   ]
  },
  {
   "cell_type": "markdown",
   "metadata": {},
   "source": [
    "## Question 5 - Process Mining (15 points): "
   ]
  },
  {
   "cell_type": "markdown",
   "metadata": {},
   "source": [
    "### General investigation\n",
    "\n",
    "a) Import the event log from the <b>Quarantine_Log</b> csv file. Set the case ID to 'patient', Timestamp to 'timestamp' and Activity as 'activity'. Also, set the lifecyle column to the right attribute. Furthermore, identify the case attributes and set them to case attributes. Find the correct setting, so that the resource is understood as resource (compare with the documentation). Give some basic information:\n",
    "\n",
    "    - number of cases\n",
    "    - number of variants\n",
    "    - number of events\n",
    "    - the trace and event attribute names\n",
    "    - the number of resources\n",
    "    - the earliest timestamp and the latest timestamp"
   ]
  },
  {
   "cell_type": "code",
   "execution_count": null,
   "metadata": {},
   "outputs": [],
   "source": [
    "# your code"
   ]
  },
  {
   "cell_type": "markdown",
   "metadata": {},
   "source": [
    "### Sampling the event log\n",
    "(b) Create a sample of the event log (<b>log_sampled</b>) containing 80% of the traces. Export the sampled event log.\n",
    "\n",
    "<font color='red'>Important!</font> Make sure that you submit your extracted event log with your results in Moodle."
   ]
  },
  {
   "cell_type": "code",
   "execution_count": null,
   "metadata": {},
   "outputs": [],
   "source": [
    "# your code"
   ]
  },
  {
   "cell_type": "markdown",
   "metadata": {},
   "source": [
    "### Trace frequency\n",
    "(c) Use the sampled event log and print the least frequent and the most frequent variant and the corresponding counts. Is there already some indication about the model structure (e.g. loops, parallel, etc.)?"
   ]
  },
  {
   "cell_type": "code",
   "execution_count": null,
   "metadata": {},
   "outputs": [],
   "source": [
    "# your code"
   ]
  },
  {
   "cell_type": "markdown",
   "metadata": {},
   "source": [
    "Explanation: "
   ]
  },
  {
   "cell_type": "markdown",
   "metadata": {},
   "source": [
    "### Filter event logs\n",
    "(d) Create three different event logs:\n",
    "\n",
    "1. One event log containing only the 10% of the most frequent traces (**filtered_log_variants**).\n",
    "2. One event log containing only patients with private insurance (**filtered_log_insurance**).\n",
    "3. One event log containing only patients having the event attribute type as 'cloud' (**filtered_log_cloud**)."
   ]
  },
  {
   "cell_type": "code",
   "execution_count": null,
   "metadata": {},
   "outputs": [],
   "source": [
    "# your code"
   ]
  },
  {
   "cell_type": "markdown",
   "metadata": {},
   "source": [
    "### Discovery and conformance checking\n",
    "\n",
    "(e) Use the Inductive Miner to discover a process model (Process tree or Petri net) for each event log created in (d). For one of the models - you may choose - explain shortly the behaviour of the model. (e.g. loops, sequences)"
   ]
  },
  {
   "cell_type": "code",
   "execution_count": null,
   "metadata": {},
   "outputs": [],
   "source": [
    "# your code"
   ]
  },
  {
   "cell_type": "markdown",
   "metadata": {},
   "source": [
    "Explanation:"
   ]
  },
  {
   "cell_type": "markdown",
   "metadata": {},
   "source": [
    "(f) Briefly summarize the differences and similarities of the models. Why do they differ/are similar?"
   ]
  },
  {
   "cell_type": "markdown",
   "metadata": {},
   "source": [
    "Explanation: \n"
   ]
  },
  {
   "cell_type": "markdown",
   "metadata": {},
   "source": [
    "(g) Perform the token-based replay for conformance checking using your discovered model for **filtered_log_variants** and the original event log. Does your process model fit the log? Explain the result in one sentence. Calculate the trace and log fitness."
   ]
  },
  {
   "cell_type": "code",
   "execution_count": null,
   "metadata": {},
   "outputs": [],
   "source": [
    "# your code"
   ]
  },
  {
   "cell_type": "markdown",
   "metadata": {},
   "source": [
    "Explanation: The model has a low fitness, because of the low number of traces used to create the model."
   ]
  },
  {
   "cell_type": "markdown",
   "metadata": {},
   "source": [
    "### Frequency and performance\n",
    "\n",
    "(h) Visualize the model for the **filtered_log_variants** event log enriched with frequency information. Subsequently, visualize that same model enriched with performance information."
   ]
  },
  {
   "cell_type": "code",
   "execution_count": null,
   "metadata": {},
   "outputs": [],
   "source": [
    "# your code"
   ]
  },
  {
   "cell_type": "markdown",
   "metadata": {},
   "source": [
    "(i) What are frequent activities? Why may they be frequent (think about the real life process described by the log)? What are possibly problematic activities according to the performance?"
   ]
  },
  {
   "cell_type": "markdown",
   "metadata": {},
   "source": [
    "Explanation: "
   ]
  },
  {
   "cell_type": "markdown",
   "metadata": {},
   "source": [
    "## Question 6 - Big Data (15 points): "
   ]
  },
  {
   "cell_type": "markdown",
   "metadata": {},
   "source": [
    "### Preparation: generating a simple log\n",
    "\n",
    "In this question, we use the event log from the log csv file with the following modifications:\n",
    "1. We flatten the lifecycles (i.e., start and complete) into a single event. Each event contains the start timestamp and complete timestamp.\n",
    "2. A new column, called ServiceTime column, is included which represents the duration of the corresponding activity in the event.\n",
    "\n",
    "We name the event log as **simple_log** in the remainder. Please follow the explanations below to prepare the **simple_log**. The preparation steps will not be graded."
   ]
  },
  {
   "cell_type": "code",
   "execution_count": null,
   "metadata": {},
   "outputs": [],
   "source": [
    "# We use following utility functions for the modifications (these are given):\n",
    "def _distinguish_duplicate_activities(log):\n",
    "    \"\"\"Add flags to the duplicate activities in a trace in order to distinguish them\n",
    "\n",
    "    Keyword arguments:\n",
    "    log -- even log\n",
    "    \"\"\"\n",
    "    trace = list()\n",
    "    activity_list = list()\n",
    "    count=0\n",
    "    prev_caseid=\"\"\n",
    "    for row in log.itertuples():\n",
    "        activity=row.Activity\n",
    "        caseid=row.Patient\n",
    "        if(caseid!=prev_caseid):\n",
    "            count=0\n",
    "            prev_caseid=caseid\n",
    "            trace=[]\n",
    "\n",
    "        if activity in trace:\n",
    "            count+=1\n",
    "            activity = activity + \"-{}\".format(count)\n",
    "            \n",
    "        trace.append(activity)\n",
    "        activity_list.append(activity)\n",
    "    log[\"Activity\"] = activity_list\n",
    "    return log\n",
    "\n",
    "def _merge_lifecylces(log):\n",
    "    \"\"\"Merge lifycycles (start,complete) into a single event. \n",
    "\n",
    "    Keyword arguments:\n",
    "    log -- even log\n",
    "    \"\"\"\n",
    "    start_log = log.loc[log[\"Lifecycle\"]==\"start\"]\n",
    "    start_log = _distinguish_duplicate_activities(start_log)\n",
    "    \n",
    "    complete_log = log.loc[log[\"Lifecycle\"]==\"complete\"]\n",
    "    complete_log = _distinguish_duplicate_activities(complete_log)\n",
    "\n",
    "    complete_log[\"CompleteTime\"] = complete_log[\"ModelTime\"]\n",
    "    simple_log = start_log.merge(complete_log, left_on=['Patient',\"Activity\"], right_on=['Patient',\"Activity\"],suffixes=(\"\", \"_y\"))\n",
    "    simple_log.drop(simple_log.filter(regex='_y$').columns.tolist(),axis=1, inplace=True)\n",
    "    simple_log[\"ServiceTime\"] = simple_log[\"CompleteTime\"] - simple_log[\"ModelTime\"]\n",
    "    return simple_log\n",
    "\n",
    "def produce_simple_log(filepath):\n",
    "    \"\"\"Produce simple log where the lifecycles are merged and service time information is added\n",
    "\n",
    "    Keyword arguments:\n",
    "    filepath -- path to event log\n",
    "    \"\"\"\n",
    "    log = pd.read_csv(filepath, sep=',')\n",
    "    log.sort_values(by=[\"Patient\",\"ModelTime\"],inplace=True)\n",
    "    simple_log = _merge_lifecylces(log)\n",
    "    return simple_log"
   ]
  },
  {
   "cell_type": "markdown",
   "metadata": {},
   "source": [
    "**Preparation step 1**: Replace the filepath to your own filepath to produce the **simple_log**.  "
   ]
  },
  {
   "cell_type": "code",
   "execution_count": null,
   "metadata": {},
   "outputs": [],
   "source": [
    "import pandas as pd\n",
    "#your filepath\n",
    "filepath = \"./Datasets/Quarantine_log.csv\"\n",
    "simple_log = produce_simple_log(filepath)"
   ]
  },
  {
   "cell_type": "markdown",
   "metadata": {},
   "source": [
    "### Preparation: expanding the event log\n",
    "\n",
    "In this question, we generate 100 event logs based on the <b>simple_log</b>. Each log replicates the base log (i.e., the <b>simple_log</b>). For randomization, you need to use the sum of the group's matriculation numbers (e.g., a group with 3 students having \"100000\", \"100001\", and \"100002\" as their matriculation numbers will use \"300003\" for the randomization)."
   ]
  },
  {
   "cell_type": "code",
   "execution_count": null,
   "metadata": {},
   "outputs": [],
   "source": [
    "# We use following utility functions for the modifications (these are given):\n",
    "import random\n",
    "def _randomize_case_attribute(log,matriculation_num):\n",
    "    \"\"\"Randomize case attributes based on the matriculation number\n",
    "\n",
    "    Keyword arguments:\n",
    "    log -- event log\n",
    "    matriculation_num - sum of matriculation numbers\n",
    "    \"\"\"\n",
    "    random.seed(matriculation_num)\n",
    "    caseids = set(log[\"Patient\"])\n",
    "    for caseid in caseids:\n",
    "        random_val = random.randint(-3,3)\n",
    "        random.seed(random_val)\n",
    "        log.loc[log[\"Patient\"]==caseid,\"Age\"] = log.loc[log[\"Patient\"]==caseid,\"Age\"]+random_val\n",
    "    return log\n",
    "\n",
    "def _extract_log(log,iter_num):\n",
    "    \"\"\"Extract n-th log to ./generated_logs/\n",
    "\n",
    "    Keyword arguments:\n",
    "    log -- event log\n",
    "    iter_num -- n-th iteration\n",
    "    \"\"\"\n",
    "    log.to_csv(\"./generated_logs/generated_log-{}.tsv\".format(iter_num),header=False,index=False, sep=\"\\t\",line_terminator=\"\")\n",
    "\n",
    "def generate_log(original_log,num_replication,mat_num):\n",
    "    \"\"\"Generate logs (randomized by the matriculation number and extracted to ./generated_logs/) \n",
    "\n",
    "    Keyword arguments:\n",
    "    log -- event log\n",
    "    num_replication -- number of generated logs\n",
    "    mat_num -- sum of matriculation numbers\n",
    "    \"\"\"\n",
    "    import os\n",
    "    dir_path = \"./generated_logs\"\n",
    "    try:\n",
    "        os.mkdir(dir_path)\n",
    "    except OSError:\n",
    "        print (\"Directory already exists: %s\" % dir_path)\n",
    "    else:\n",
    "        print (\"Successfully created the directory %s \" % dir_path)\n",
    "    \n",
    "    base_log = original_log.copy(deep=True)\n",
    "    max_modeltime = max(base_log[\"ModelTime\"])\n",
    "    max_patientid = max(base_log[\"Patient\"])\n",
    "    for i in range(num_replication):\n",
    "        generated_log = base_log\n",
    "        generated_log[\"Patient\"] += max_patientid\n",
    "        generated_log[\"ModelTime\"] += max_modeltime\n",
    "        random.seed(None)\n",
    "        randomized_log = _randomize_case_attribute(generated_log,random.randint(0,mat_num))\n",
    "        _extract_log(randomized_log,i)\n",
    "        print (\"Successfully created %i th log at %s \"% (i,dir_path))\n",
    "        base_log = randomized_log"
   ]
  },
  {
   "cell_type": "markdown",
   "metadata": {},
   "source": [
    "**Preparation step 2**: Generate 100 replicated logs in your local disk (./generated-logs/generated-log-0.tsv, ./generated-logs/generated-log-1.tsv, ..., ./generated-logs/generated-log-99.tsv). Do not forget to replace the SUM_MAT_NUM to yours."
   ]
  },
  {
   "cell_type": "code",
   "execution_count": null,
   "metadata": {},
   "outputs": [],
   "source": [
    "#your group's sum\n",
    "SUM_MAT_NUM = 154031 \n",
    "base_log = simple_log[[\"Patient\", \"ModelTime\",\"Activity\",\"Age\",\"ServiceTime\"]] # this will be removed\n",
    "NUM_REPITITION=1\n",
    "generate_log(base_log,NUM_REPITITION,SUM_MAT_NUM)"
   ]
  },
  {
   "cell_type": "markdown",
   "metadata": {},
   "source": [
    "### Basic Hadoop\n",
    "\n",
    "(a) Now, it's time to work with the Hadoop system. The goal of this task is to merge 100 event logs at your disk in the Hadoop system. Follow the instructions below and show your results in each step (screenshots of the command line). We use \"letter identifier\" for this task (The letter identifier is the string consisting of the first letters of the group memebers' first names, e.g., for the group with \"Alessandro Berti\", \"Bernardo Silva\", \"Chiao Li\", the indentifier is \"ABC\").\n",
    "\n",
    "    1) Import the event logs to your Docker engine (at /usr/local/hadoop/(identifier)-generated-logs/).\n",
    "    2) Upload the files to the running Hadoop system (at /input/(identifier)-generated-logs/). \n",
    "    3) Merge the file and copy the result back to the Hadoop system (at /input/(identifier)-final-log.tsv).\n",
    "    4) Using the Hadoop command, print out the merged file in the command line (the screenshot may contain 10 rows)."
   ]
  },
  {
   "cell_type": "code",
   "execution_count": null,
   "metadata": {},
   "outputs": [],
   "source": [
    "#your code\n",
    "from IPython.display import Image\n",
    "Image(filename='your_path_to_screenshot_of_a1') "
   ]
  },
  {
   "cell_type": "code",
   "execution_count": null,
   "metadata": {},
   "outputs": [],
   "source": [
    "#your code\n",
    "Image(filename='your_path_to_screenshot_of_a2') "
   ]
  },
  {
   "cell_type": "code",
   "execution_count": null,
   "metadata": {},
   "outputs": [],
   "source": [
    "#your code\n",
    "Image(filename='your_path_to_screenshot_of_a3') "
   ]
  },
  {
   "cell_type": "code",
   "execution_count": null,
   "metadata": {},
   "outputs": [],
   "source": [
    "#your code\n",
    "Image(filename='your_path_to_screenshot_of_a4') "
   ]
  },
  {
   "cell_type": "markdown",
   "metadata": {},
   "source": [
    "### Process Discovery\n",
    "\n",
    "(b) Discover a process model from the merged file using MapReduce algorithms. Explain how you discover the process model with the following deliverables:\n",
    "\n",
    "    1) Mapper function (as python file(s))\n",
    "    2) Reducer function (as python file(s))\n",
    "    3) Hadoop commands for MapReduce calculation (as text file)\n",
    "    4) Jupyter notebook code that prints the directly-follows relations and discover process models based on the directly-follows relations (you are free to use any discovery algorithms)\n",
    "\n",
    "<font color='red'>Important!</font> Please note that in this task, your result will be evaluated based on whether they are reproducible from your explanation. If you skip MapReduce calculations for this task, you will get 0 points.The deliverables of 1), 2), and 3) should be submitted as outputs. "
   ]
  },
  {
   "cell_type": "code",
   "execution_count": 1,
   "metadata": {},
   "outputs": [],
   "source": [
    "# your code for (b)-4"
   ]
  },
  {
   "cell_type": "markdown",
   "metadata": {},
   "source": [
    "### Performance Analysis\n",
    "\n",
    "(c) Calculate the total service time for each case using MapReduce algorithms. Explain how you calculate the total service time for each case with the following deliverables:\n",
    "\n",
    "    1) Mapper function (as python file(s))\n",
    "    2) Reducer function (as python file(s))\n",
    "    3) Hadoop commands for MapReduce calculation (as text file)\n",
    "    4) Result: total service times for cases (as text file)\n",
    "    \n",
    "Important! Please note that in this task, your result will be evaluated based on whether they are reproducible from your explanation. If you skip MapReduce calculations for this task, you will get 0 points.The deliverables of 1), 2), 3), and 4) should be submitted as outputs."
   ]
  },
  {
   "cell_type": "markdown",
   "metadata": {},
   "source": [
    "(d) Visualize 1000 cases with the longest total service time using any chart."
   ]
  },
  {
   "cell_type": "code",
   "execution_count": null,
   "metadata": {},
   "outputs": [],
   "source": [
    "# your code"
   ]
  }
 ],
 "metadata": {
  "kernelspec": {
   "display_name": "Python 3",
   "language": "python",
   "name": "python3"
  },
  "language_info": {
   "codemirror_mode": {
    "name": "ipython",
    "version": 3
   },
   "file_extension": ".py",
   "mimetype": "text/x-python",
   "name": "python",
   "nbconvert_exporter": "python",
   "pygments_lexer": "ipython3",
   "version": "3.8.5"
  }
 },
 "nbformat": 4,
 "nbformat_minor": 2
}
